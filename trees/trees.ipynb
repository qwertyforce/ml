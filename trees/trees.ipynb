{
  "cells": [
    {
      "cell_type": "code",
      "execution_count": null,
      "metadata": {
        "id": "jKmizE2lWV16"
      },
      "outputs": [],
      "source": [
        "from sklearn import datasets\n",
        "\n",
        "iris = datasets.fetch_covtype()"
      ]
    },
    {
      "cell_type": "code",
      "execution_count": null,
      "metadata": {
        "id": "OaOBSQGLWuwk"
      },
      "outputs": [],
      "source": [
        "data = iris['data'][:5000]"
      ]
    },
    {
      "cell_type": "code",
      "execution_count": null,
      "metadata": {
        "id": "2ZdZqJ4TW_E6"
      },
      "outputs": [],
      "source": [
        "target = iris[\"target\"][:5000]"
      ]
    },
    {
      "cell_type": "code",
      "execution_count": null,
      "metadata": {
        "colab": {
          "base_uri": "https://localhost:8080/"
        },
        "id": "l0tDlfN01_3m",
        "outputId": "ec917025-6f2b-4d06-f8ff-116ee015765e"
      },
      "outputs": [
        {
          "data": {
            "text/plain": [
              "(1000, 54)"
            ]
          },
          "execution_count": 120,
          "metadata": {},
          "output_type": "execute_result"
        }
      ],
      "source": [
        "data.shape"
      ]
    },
    {
      "cell_type": "code",
      "execution_count": null,
      "metadata": {
        "id": "BN7OPOPuXQn8"
      },
      "outputs": [],
      "source": [
        "import numpy as np"
      ]
    },
    {
      "cell_type": "code",
      "execution_count": null,
      "metadata": {
        "id": "lLqg-tTDXXjv"
      },
      "outputs": [],
      "source": [
        "from sklearn.model_selection import train_test_split\n",
        "X_train, X_test, y_train, y_test = train_test_split(data, target, test_size=0.33, random_state=42)"
      ]
    },
    {
      "cell_type": "code",
      "execution_count": null,
      "metadata": {
        "colab": {
          "base_uri": "https://localhost:8080/"
        },
        "id": "I8_6dWrYXxfz",
        "outputId": "053d3d26-0bec-4a40-9639-24940bbc3a7f"
      },
      "outputs": [
        {
          "data": {
            "text/plain": [
              "(3350,)"
            ]
          },
          "execution_count": 134,
          "metadata": {},
          "output_type": "execute_result"
        }
      ],
      "source": [
        "y_train.shape"
      ]
    },
    {
      "cell_type": "code",
      "execution_count": null,
      "metadata": {
        "id": "oCRKi0hrYvdL"
      },
      "outputs": [],
      "source": [
        "import numpy as np\n",
        "from collections import Counter\n",
        "from math import inf\n",
        "class Leaf():\n",
        "  def __init__(self, y):\n",
        "      self.y = y\n",
        "\n",
        "class Node():\n",
        "  def __init__(self, left, right, condition):\n",
        "      self.left = left\n",
        "      self.right = right\n",
        "      self.condition = condition\n",
        "\n",
        "class DecisionTree():\n",
        "  def __init__(self,max_depth):\n",
        "      self.max_depth = max_depth\n",
        "\n",
        "  def impurity(self, y):\n",
        "      h_q = 0\n",
        "      cnt = Counter(y)\n",
        "      for key in cnt:\n",
        "        cnt[key]/=len(y)\n",
        "\n",
        "      for key in cnt:\n",
        "        h_q+=cnt[key]*(1-cnt[key])\n",
        "\n",
        "      return len(y)*h_q\n",
        "\n",
        "\n",
        "  def split(self,x ,y):\n",
        "    min_impurity = inf\n",
        "    best_idx_split = -1\n",
        "    best_condition = None\n",
        "    best_x_left = None\n",
        "    best_x_right = None\n",
        "    best_y_left = None\n",
        "    best_y_right = None\n",
        "    # best_\n",
        "    for col in tqdm(range(x.shape[1])):\n",
        "        idxs  = np.argsort(x[:,col])\n",
        "        new_y = y[idxs]\n",
        "\n",
        "        for split_idx in range(1,len(x)):\n",
        "          new_y_left = new_y[:split_idx]\n",
        "          new_y_right = new_y[split_idx:]\n",
        "\n",
        "          impurity_y_1 = self.impurity(new_y_left)\n",
        "          impurity_y_2 = self.impurity(new_y_right)\n",
        "          sum_of_impurity = impurity_y_1 + impurity_y_2\n",
        "\n",
        "          if sum_of_impurity < min_impurity:\n",
        "            best_x_left = x[idxs[:split_idx], :]\n",
        "            best_x_right = x[idxs[split_idx:], :]\n",
        "            min_impurity = sum_of_impurity\n",
        "            best_y_left = new_y_left\n",
        "            best_y_right = new_y_right\n",
        "            best_condition = (col, x[idxs][split_idx, col])\n",
        "    # print()\n",
        "    return best_x_left,best_y_left,best_x_right,best_y_right, best_condition\n",
        "\n",
        "  def build_tree(self, x, y, depth):\n",
        "    node = Node(None,None,None)\n",
        "\n",
        "    if depth == self.max_depth:\n",
        "      if len(y)!=0:\n",
        "        cnt = Counter(y)\n",
        "        y = cnt.most_common(1)[0][0]\n",
        "      return Leaf(y)\n",
        "\n",
        "    x1, y1, x2, y2, condition = self.split(x,y)\n",
        "    if x1 is None:\n",
        "      cnt = Counter(y)\n",
        "      y = cnt.most_common(1)[0][0]\n",
        "      return Leaf(y)\n",
        "    node.condition = condition\n",
        "    node.left = self.build_tree(x1, y1,depth+1)\n",
        "    node.right = self.build_tree(x2, y2,depth+1)\n",
        "    return node\n"
      ]
    },
    {
      "cell_type": "code",
      "execution_count": null,
      "metadata": {
        "id": "ykJF8Va2y3tP"
      },
      "outputs": [],
      "source": [
        "def inference(node,x):\n",
        "  if isinstance(node,Leaf):\n",
        "    return node.y\n",
        "  if x[node.condition[0]] < node.condition[1]:\n",
        "    return inference(node.left,x)\n",
        "  else:\n",
        "    return inference(node.right,x)"
      ]
    },
    {
      "cell_type": "code",
      "execution_count": null,
      "metadata": {
        "colab": {
          "base_uri": "https://localhost:8080/"
        },
        "id": "T_C68LyruUQ6",
        "outputId": "5cd60446-4344-41b2-b6fe-74999f020354"
      },
      "outputs": [
        {
          "name": "stderr",
          "output_type": "stream",
          "text": [
            "100%|██████████| 54/54 [00:01<00:00, 33.73it/s]\n",
            "100%|██████████| 54/54 [00:00<00:00, 154.71it/s]\n",
            "100%|██████████| 54/54 [00:00<00:00, 1700.96it/s]\n",
            "100%|██████████| 54/54 [00:00<00:00, 221.86it/s]\n",
            "100%|██████████| 54/54 [00:00<00:00, 265.03it/s]\n",
            "100%|██████████| 54/54 [00:00<00:00, 1914.58it/s]\n",
            "100%|██████████| 54/54 [00:00<00:00, 439.76it/s]\n"
          ]
        }
      ],
      "source": [
        "tree = DecisionTree(3)\n",
        "dec_tree = tree.build_tree(X_train[:200],y_train[:200],0)"
      ]
    },
    {
      "cell_type": "code",
      "execution_count": 156,
      "metadata": {
        "colab": {
          "base_uri": "https://localhost:8080/"
        },
        "id": "Ikiu-b6I0Sui",
        "outputId": "66ff07dd-9027-43bd-ba93-c0ec523c70d7"
      },
      "outputs": [
        {
          "output_type": "stream",
          "name": "stderr",
          "text": [
            "100%|██████████| 1650/1650 [00:00<00:00, 365299.64it/s]"
          ]
        },
        {
          "output_type": "stream",
          "name": "stdout",
          "text": [
            "0.6242424242424243\n"
          ]
        },
        {
          "output_type": "stream",
          "name": "stderr",
          "text": [
            "\n"
          ]
        }
      ],
      "source": [
        "from tqdm import tqdm\n",
        "right = 0\n",
        "for i in tqdm(range(len(X_test))):\n",
        "  cls = inference(dec_tree,X_test[i])\n",
        "  if cls == y_test[i]:\n",
        "    right+=1\n",
        "print(right/len(y_test))"
      ]
    },
    {
      "cell_type": "code",
      "execution_count": null,
      "metadata": {
        "id": "03F4swby7K9f"
      },
      "outputs": [],
      "source": []
    },
    {
      "cell_type": "code",
      "execution_count": null,
      "metadata": {
        "colab": {
          "background_save": true
        },
        "id": "VCyCwIW-61dn"
      },
      "outputs": [],
      "source": [
        "N = 10\n",
        "trees = []\n",
        "subsample_n = 1000\n",
        "for i in tqdm(range(N)):\n",
        "  tree = DecisionTree(3)\n",
        "  idxs = np.random.choice(len(X_train),subsample_n)\n",
        "  dec_tree = tree.build_tree(X_train[idxs],y_train[idxs],0)\n",
        "  trees.append(dec_tree)"
      ]
    },
    {
      "cell_type": "code",
      "execution_count": null,
      "metadata": {
        "id": "FXuLuhr47x2c"
      },
      "outputs": [],
      "source": [
        "def inference_trees(trees,X_test):\n",
        "  all_x_ans = []\n",
        "  for i in tqdm(range(len(X_test))):\n",
        "    ans = []\n",
        "    for j in range(len(trees)):\n",
        "      cls = inference(trees[j],X_test[i])\n",
        "      ans.append(cls)\n",
        "    cnt = Counter(ans)\n",
        "    all_x_ans.append(cnt.most_common(1)[0][0])\n",
        "  return all_x_ans"
      ]
    },
    {
      "cell_type": "code",
      "execution_count": null,
      "metadata": {
        "colab": {
          "base_uri": "https://localhost:8080/"
        },
        "id": "az2fiPsA5fD5",
        "outputId": "0fa3d8fe-34bf-4228-bcf3-640ad0ce76aa"
      },
      "outputs": [
        {
          "name": "stderr",
          "output_type": "stream",
          "text": [
            "100%|██████████| 1650/1650 [00:00<00:00, 42750.11it/s]\n"
          ]
        }
      ],
      "source": [
        "ans = inference_trees(trees,X_test)"
      ]
    },
    {
      "cell_type": "code",
      "execution_count": null,
      "metadata": {
        "id": "tHJtZ5lx5fiK"
      },
      "outputs": [],
      "source": [
        "ans[:50]"
      ]
    },
    {
      "cell_type": "code",
      "execution_count": null,
      "metadata": {
        "id": "CaCa9Ha29O2n"
      },
      "outputs": [],
      "source": [
        "from sklearn.metrics import accuracy_score"
      ]
    },
    {
      "cell_type": "code",
      "execution_count": null,
      "metadata": {
        "colab": {
          "base_uri": "https://localhost:8080/"
        },
        "id": "ze9_tRY-9Vj8",
        "outputId": "51c67cdd-2ee5-47c9-dda2-029f26d1bd5a"
      },
      "outputs": [
        {
          "data": {
            "text/plain": [
              "0.6309090909090909"
            ]
          },
          "execution_count": 154,
          "metadata": {},
          "output_type": "execute_result"
        }
      ],
      "source": [
        "accuracy_score(ans,y_test)"
      ]
    }
  ],
  "metadata": {
    "colab": {
      "provenance": []
    },
    "kernelspec": {
      "display_name": "Python 3",
      "name": "python3"
    },
    "language_info": {
      "name": "python"
    }
  },
  "nbformat": 4,
  "nbformat_minor": 0
}