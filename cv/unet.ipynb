{
  "nbformat": 4,
  "nbformat_minor": 0,
  "metadata": {
    "colab": {
      "provenance": [],
      "gpuType": "T4"
    },
    "kernelspec": {
      "name": "python3",
      "display_name": "Python 3"
    },
    "language_info": {
      "name": "python"
    },
    "accelerator": "GPU"
  },
  "cells": [
    {
      "cell_type": "markdown",
      "source": [
        "https://theaisummer.com/unet-architectures/#u-net-and-3d-u-net"
      ],
      "metadata": {
        "id": "7ce8azTNMDcg"
      }
    },
    {
      "cell_type": "code",
      "source": [
        "!pip install segmentation-models-pytorch\n",
        "from segmentation_models_pytorch.datasets import SimpleOxfordPetDataset\n",
        "SimpleOxfordPetDataset.download(\".\")\n",
        "train_dataset = SimpleOxfordPetDataset(\".\", \"train\")\n",
        "# valid_dataset = SimpleOxfordPetDataset(root, \"valid\")\n",
        "test_dataset = SimpleOxfordPetDataset(\".\", \"test\")"
      ],
      "metadata": {
        "id": "MZOfKGpbeQwx",
        "colab": {
          "base_uri": "https://localhost:8080/"
        },
        "outputId": "80b15804-6cad-4840-f8e9-692da352ba1a"
      },
      "execution_count": 1,
      "outputs": [
        {
          "output_type": "stream",
          "name": "stdout",
          "text": [
            "Collecting segmentation-models-pytorch\n",
            "  Downloading segmentation_models_pytorch-0.3.3-py3-none-any.whl (106 kB)\n",
            "\u001b[2K     \u001b[90m━━━━━━━━━━━━━━━━━━━━━━━━━━━━━━━━━━━━━━━\u001b[0m \u001b[32m106.7/106.7 kB\u001b[0m \u001b[31m2.2 MB/s\u001b[0m eta \u001b[36m0:00:00\u001b[0m\n",
            "\u001b[?25hRequirement already satisfied: torchvision>=0.5.0 in /usr/local/lib/python3.10/dist-packages (from segmentation-models-pytorch) (0.15.2+cu118)\n",
            "Collecting pretrainedmodels==0.7.4 (from segmentation-models-pytorch)\n",
            "  Downloading pretrainedmodels-0.7.4.tar.gz (58 kB)\n",
            "\u001b[2K     \u001b[90m━━━━━━━━━━━━━━━━━━━━━━━━━━━━━━━━━━━━━━━━\u001b[0m \u001b[32m58.8/58.8 kB\u001b[0m \u001b[31m7.7 MB/s\u001b[0m eta \u001b[36m0:00:00\u001b[0m\n",
            "\u001b[?25h  Preparing metadata (setup.py) ... \u001b[?25l\u001b[?25hdone\n",
            "Collecting efficientnet-pytorch==0.7.1 (from segmentation-models-pytorch)\n",
            "  Downloading efficientnet_pytorch-0.7.1.tar.gz (21 kB)\n",
            "  Preparing metadata (setup.py) ... \u001b[?25l\u001b[?25hdone\n",
            "Collecting timm==0.9.2 (from segmentation-models-pytorch)\n",
            "  Downloading timm-0.9.2-py3-none-any.whl (2.2 MB)\n",
            "\u001b[2K     \u001b[90m━━━━━━━━━━━━━━━━━━━━━━━━━━━━━━━━━━━━━━━━\u001b[0m \u001b[32m2.2/2.2 MB\u001b[0m \u001b[31m12.7 MB/s\u001b[0m eta \u001b[36m0:00:00\u001b[0m\n",
            "\u001b[?25hRequirement already satisfied: tqdm in /usr/local/lib/python3.10/dist-packages (from segmentation-models-pytorch) (4.66.1)\n",
            "Requirement already satisfied: pillow in /usr/local/lib/python3.10/dist-packages (from segmentation-models-pytorch) (9.4.0)\n",
            "Requirement already satisfied: torch in /usr/local/lib/python3.10/dist-packages (from efficientnet-pytorch==0.7.1->segmentation-models-pytorch) (2.0.1+cu118)\n",
            "Collecting munch (from pretrainedmodels==0.7.4->segmentation-models-pytorch)\n",
            "  Downloading munch-4.0.0-py2.py3-none-any.whl (9.9 kB)\n",
            "Requirement already satisfied: pyyaml in /usr/local/lib/python3.10/dist-packages (from timm==0.9.2->segmentation-models-pytorch) (6.0.1)\n",
            "Collecting huggingface-hub (from timm==0.9.2->segmentation-models-pytorch)\n",
            "  Downloading huggingface_hub-0.17.3-py3-none-any.whl (295 kB)\n",
            "\u001b[2K     \u001b[90m━━━━━━━━━━━━━━━━━━━━━━━━━━━━━━━━━━━━━━\u001b[0m \u001b[32m295.0/295.0 kB\u001b[0m \u001b[31m15.3 MB/s\u001b[0m eta \u001b[36m0:00:00\u001b[0m\n",
            "\u001b[?25hCollecting safetensors (from timm==0.9.2->segmentation-models-pytorch)\n",
            "  Downloading safetensors-0.4.0-cp310-cp310-manylinux_2_17_x86_64.manylinux2014_x86_64.whl (1.3 MB)\n",
            "\u001b[2K     \u001b[90m━━━━━━━━━━━━━━━━━━━━━━━━━━━━━━━━━━━━━━━━\u001b[0m \u001b[32m1.3/1.3 MB\u001b[0m \u001b[31m19.6 MB/s\u001b[0m eta \u001b[36m0:00:00\u001b[0m\n",
            "\u001b[?25hRequirement already satisfied: numpy in /usr/local/lib/python3.10/dist-packages (from torchvision>=0.5.0->segmentation-models-pytorch) (1.23.5)\n",
            "Requirement already satisfied: requests in /usr/local/lib/python3.10/dist-packages (from torchvision>=0.5.0->segmentation-models-pytorch) (2.31.0)\n",
            "Requirement already satisfied: filelock in /usr/local/lib/python3.10/dist-packages (from torch->efficientnet-pytorch==0.7.1->segmentation-models-pytorch) (3.12.4)\n",
            "Requirement already satisfied: typing-extensions in /usr/local/lib/python3.10/dist-packages (from torch->efficientnet-pytorch==0.7.1->segmentation-models-pytorch) (4.5.0)\n",
            "Requirement already satisfied: sympy in /usr/local/lib/python3.10/dist-packages (from torch->efficientnet-pytorch==0.7.1->segmentation-models-pytorch) (1.12)\n",
            "Requirement already satisfied: networkx in /usr/local/lib/python3.10/dist-packages (from torch->efficientnet-pytorch==0.7.1->segmentation-models-pytorch) (3.1)\n",
            "Requirement already satisfied: jinja2 in /usr/local/lib/python3.10/dist-packages (from torch->efficientnet-pytorch==0.7.1->segmentation-models-pytorch) (3.1.2)\n",
            "Requirement already satisfied: triton==2.0.0 in /usr/local/lib/python3.10/dist-packages (from torch->efficientnet-pytorch==0.7.1->segmentation-models-pytorch) (2.0.0)\n",
            "Requirement already satisfied: cmake in /usr/local/lib/python3.10/dist-packages (from triton==2.0.0->torch->efficientnet-pytorch==0.7.1->segmentation-models-pytorch) (3.27.6)\n",
            "Requirement already satisfied: lit in /usr/local/lib/python3.10/dist-packages (from triton==2.0.0->torch->efficientnet-pytorch==0.7.1->segmentation-models-pytorch) (17.0.2)\n",
            "Requirement already satisfied: fsspec in /usr/local/lib/python3.10/dist-packages (from huggingface-hub->timm==0.9.2->segmentation-models-pytorch) (2023.6.0)\n",
            "Requirement already satisfied: packaging>=20.9 in /usr/local/lib/python3.10/dist-packages (from huggingface-hub->timm==0.9.2->segmentation-models-pytorch) (23.2)\n",
            "Requirement already satisfied: charset-normalizer<4,>=2 in /usr/local/lib/python3.10/dist-packages (from requests->torchvision>=0.5.0->segmentation-models-pytorch) (3.3.0)\n",
            "Requirement already satisfied: idna<4,>=2.5 in /usr/local/lib/python3.10/dist-packages (from requests->torchvision>=0.5.0->segmentation-models-pytorch) (3.4)\n",
            "Requirement already satisfied: urllib3<3,>=1.21.1 in /usr/local/lib/python3.10/dist-packages (from requests->torchvision>=0.5.0->segmentation-models-pytorch) (2.0.6)\n",
            "Requirement already satisfied: certifi>=2017.4.17 in /usr/local/lib/python3.10/dist-packages (from requests->torchvision>=0.5.0->segmentation-models-pytorch) (2023.7.22)\n",
            "Requirement already satisfied: MarkupSafe>=2.0 in /usr/local/lib/python3.10/dist-packages (from jinja2->torch->efficientnet-pytorch==0.7.1->segmentation-models-pytorch) (2.1.3)\n",
            "Requirement already satisfied: mpmath>=0.19 in /usr/local/lib/python3.10/dist-packages (from sympy->torch->efficientnet-pytorch==0.7.1->segmentation-models-pytorch) (1.3.0)\n",
            "Building wheels for collected packages: efficientnet-pytorch, pretrainedmodels\n",
            "  Building wheel for efficientnet-pytorch (setup.py) ... \u001b[?25l\u001b[?25hdone\n",
            "  Created wheel for efficientnet-pytorch: filename=efficientnet_pytorch-0.7.1-py3-none-any.whl size=16428 sha256=5fab1efac07b33e255b7068f9e3ba886d07805db8656e66d659eef236a11c0f4\n",
            "  Stored in directory: /root/.cache/pip/wheels/03/3f/e9/911b1bc46869644912bda90a56bcf7b960f20b5187feea3baf\n",
            "  Building wheel for pretrainedmodels (setup.py) ... \u001b[?25l\u001b[?25hdone\n",
            "  Created wheel for pretrainedmodels: filename=pretrainedmodels-0.7.4-py3-none-any.whl size=60943 sha256=d2bcbc07e7044ff3a5a306ac46a3611f6661e971d4b9177db5ea58ea919a6b8a\n",
            "  Stored in directory: /root/.cache/pip/wheels/35/cb/a5/8f534c60142835bfc889f9a482e4a67e0b817032d9c6883b64\n",
            "Successfully built efficientnet-pytorch pretrainedmodels\n",
            "Installing collected packages: safetensors, munch, huggingface-hub, timm, pretrainedmodels, efficientnet-pytorch, segmentation-models-pytorch\n",
            "Successfully installed efficientnet-pytorch-0.7.1 huggingface-hub-0.17.3 munch-4.0.0 pretrainedmodels-0.7.4 safetensors-0.4.0 segmentation-models-pytorch-0.3.3 timm-0.9.2\n"
          ]
        },
        {
          "output_type": "stream",
          "name": "stderr",
          "text": [
            "images.tar.gz: 100%|██████████| 755M/755M [00:24<00:00, 32.0MB/s]\n",
            "annotations.tar.gz: 100%|██████████| 18.3M/18.3M [00:02<00:00, 6.48MB/s]\n"
          ]
        }
      ]
    },
    {
      "cell_type": "code",
      "execution_count": 2,
      "metadata": {
        "id": "CKRSPH4GmHud"
      },
      "outputs": [],
      "source": [
        "import torch\n",
        "import torchvision"
      ]
    },
    {
      "cell_type": "code",
      "source": [
        "test_dataset[0][\"image\"].shape"
      ],
      "metadata": {
        "colab": {
          "base_uri": "https://localhost:8080/"
        },
        "id": "IzETea0ZywYV",
        "outputId": "0cd58bc2-6201-4553-ff18-ff6ab49461a9"
      },
      "execution_count": 3,
      "outputs": [
        {
          "output_type": "execute_result",
          "data": {
            "text/plain": [
              "(3, 256, 256)"
            ]
          },
          "metadata": {},
          "execution_count": 3
        }
      ]
    },
    {
      "cell_type": "code",
      "source": [
        "from torchvision import transforms\n",
        "_transform=transforms.Compose([\n",
        "        transforms.ToTensor(),\n",
        "        transforms.Normalize((0.5, 0.5, 0.5), (0.5, 0.5, 0.5))])"
      ],
      "metadata": {
        "id": "opQWCbMYdHW4"
      },
      "execution_count": 4,
      "outputs": []
    },
    {
      "cell_type": "code",
      "source": [
        "import numpy as np\n",
        "_transform(np.transpose(test_dataset[0][\"image\"],(1,2,0)))"
      ],
      "metadata": {
        "colab": {
          "base_uri": "https://localhost:8080/"
        },
        "id": "uMR1Kotw1H0a",
        "outputId": "7437dd64-2de0-425a-f45f-b3e3d680d116"
      },
      "execution_count": 5,
      "outputs": [
        {
          "output_type": "execute_result",
          "data": {
            "text/plain": [
              "tensor([[[-0.8039, -0.8353, -0.8431,  ...,  0.3804,  0.3490,  0.3255],\n",
              "         [-0.8039, -0.8275, -0.8353,  ...,  0.4353,  0.4039,  0.3882],\n",
              "         [-0.7961, -0.8196, -0.8353,  ...,  0.4588,  0.4431,  0.4275],\n",
              "         ...,\n",
              "         [-0.6157, -0.5922, -0.5608,  ...,  0.4431,  0.4667,  0.4588],\n",
              "         [-0.5843, -0.5608, -0.5451,  ...,  0.4431,  0.4588,  0.4275],\n",
              "         [-0.5294, -0.5451, -0.5608,  ...,  0.4353,  0.4667,  0.4275]],\n",
              "\n",
              "        [[-0.8902, -0.8824, -0.8588,  ...,  0.2078,  0.1765,  0.1529],\n",
              "         [-0.8902, -0.8824, -0.8588,  ...,  0.2471,  0.2235,  0.2078],\n",
              "         [-0.8902, -0.8745, -0.8588,  ...,  0.2471,  0.2392,  0.2235],\n",
              "         ...,\n",
              "         [-0.6706, -0.6549, -0.6392,  ..., -0.1765, -0.1216, -0.1059],\n",
              "         [-0.6392, -0.6235, -0.6157,  ..., -0.1686, -0.1216, -0.1529],\n",
              "         [-0.6706, -0.6471, -0.6392,  ..., -0.1765, -0.1059, -0.2157]],\n",
              "\n",
              "        [[-0.8902, -0.8980, -0.8745,  ...,  0.1059,  0.0745,  0.0510],\n",
              "         [-0.8902, -0.8824, -0.8667,  ...,  0.1529,  0.1294,  0.1059],\n",
              "         [-0.8902, -0.8745, -0.8588,  ...,  0.1529,  0.1451,  0.1294],\n",
              "         ...,\n",
              "         [-0.6863, -0.6706, -0.6471,  ..., -0.5216, -0.4667, -0.4667],\n",
              "         [-0.6627, -0.6471, -0.6314,  ..., -0.5059, -0.4745, -0.4902],\n",
              "         [-0.6863, -0.6784, -0.6784,  ..., -0.4824, -0.4588, -0.4824]]])"
            ]
          },
          "metadata": {},
          "execution_count": 5
        }
      ]
    },
    {
      "cell_type": "code",
      "source": [
        "from torch.utils.data import Dataset\n",
        "from torchvision import transforms\n",
        "from PIL import Image\n",
        "import os\n",
        "import random\n",
        "\n",
        "class CustomDataset(Dataset):\n",
        "    def __init__(self, data):\n",
        "        self.data = data\n",
        "\n",
        "    def __len__(self):\n",
        "        return len(self.data)\n",
        "\n",
        "    def __getitem__(self, idx):\n",
        "        img = self.data[idx][\"image\"]\n",
        "        mask = self.data[idx][\"mask\"]\n",
        "        img = _transform(np.transpose(img,(1,2,0)))\n",
        "        return (img, torch.from_numpy(mask))\n",
        "        # except Exception as e:\n",
        "        #     print(e)\n",
        "        #     print(f\"error reading {img_path}\")"
      ],
      "metadata": {
        "id": "k3Nv7_f7ziiK"
      },
      "execution_count": 6,
      "outputs": []
    },
    {
      "cell_type": "code",
      "source": [
        "_train_dataset = CustomDataset(train_dataset)\n",
        "_test_dataset = CustomDataset(test_dataset)"
      ],
      "metadata": {
        "id": "DeoA9Jciz0uw"
      },
      "execution_count": 7,
      "outputs": []
    },
    {
      "cell_type": "code",
      "source": [
        "from torch.utils.data import DataLoader\n",
        "train_dataloader = DataLoader(_train_dataset, batch_size=32, shuffle=True)\n",
        "# valid_dataloader = DataLoader(valid_dataset, batch_size=16, shuffle=False)\n",
        "test_dataloader = DataLoader(_test_dataset, batch_size=32, shuffle=False)"
      ],
      "metadata": {
        "id": "RCLSqQfpe83D"
      },
      "execution_count": 8,
      "outputs": []
    },
    {
      "cell_type": "code",
      "source": [
        "import torch\n",
        "import torch.nn as nn\n",
        "from torchvision import models\n",
        "\n",
        "import torch\n",
        "import torch.nn as nn\n",
        "import torch.nn.functional as F\n",
        "\n",
        "\n",
        "class DoubleConv(nn.Module):\n",
        "    def __init__(self, in_ch, out_ch):\n",
        "        super(DoubleConv, self).__init__()\n",
        "        self.conv = nn.Sequential(\n",
        "            nn.Conv2d(in_ch, out_ch, 3, padding=1),\n",
        "            nn.BatchNorm2d(out_ch),\n",
        "            nn.ReLU(inplace=True),\n",
        "            nn.Conv2d(out_ch, out_ch, 3, padding=1),\n",
        "            nn.BatchNorm2d(out_ch),\n",
        "            nn.ReLU(inplace=True))\n",
        "\n",
        "    def forward(self, x):\n",
        "        x = self.conv(x)\n",
        "        return x\n",
        "\n",
        "\n",
        "class InConv(nn.Module):\n",
        "    def __init__(self, in_ch, out_ch):\n",
        "        super(InConv, self).__init__()\n",
        "        self.conv = DoubleConv(in_ch, out_ch)\n",
        "\n",
        "    def forward(self, x):\n",
        "        x = self.conv(x)\n",
        "        return x\n",
        "\n",
        "\n",
        "class Down(nn.Module):\n",
        "    def __init__(self, in_ch, out_ch):\n",
        "        super(Down, self).__init__()\n",
        "        self.mpconv = nn.Sequential(\n",
        "            nn.MaxPool2d(2),\n",
        "            DoubleConv(in_ch, out_ch)\n",
        "        )\n",
        "\n",
        "    def forward(self, x):\n",
        "        x = self.mpconv(x)\n",
        "        return x\n",
        "\n",
        "\n",
        "class Up(nn.Module):\n",
        "    def __init__(self, in_ch, out_ch, bilinear=True):\n",
        "        super(Up, self).__init__()\n",
        "\n",
        "        if bilinear:\n",
        "            self.up = nn.Upsample(scale_factor=2, mode='bilinear', align_corners=True)\n",
        "        else:\n",
        "            self.up = nn.ConvTranspose2d(in_ch // 2, in_ch // 2, 2, stride=2)\n",
        "\n",
        "        self.conv = DoubleConv(in_ch, out_ch)\n",
        "\n",
        "    def forward(self, x1, x2):\n",
        "        x1 = self.up(x1)\n",
        "\n",
        "        diffY = x2.size()[2] - x1.size()[2]\n",
        "        diffX = x2.size()[3] - x1.size()[3]\n",
        "\n",
        "        x1 = F.pad(x1, (diffX // 2, diffX - diffX // 2,\n",
        "                        diffY // 2, diffY - diffY // 2))\n",
        "        x = torch.cat([x2, x1], dim=1)\n",
        "        x = self.conv(x)\n",
        "        return x\n",
        "\n",
        "\n",
        "class OutConv(nn.Module):\n",
        "    def __init__(self, in_ch, out_ch):\n",
        "        super(OutConv, self).__init__()\n",
        "        self.conv = nn.Conv2d(in_ch, out_ch, 1)\n",
        "\n",
        "    def forward(self, x):\n",
        "        x = self.conv(x)\n",
        "        return x\n",
        "\n",
        "class Unet(nn.Module):\n",
        "    def __init__(self, in_channels, classes):\n",
        "        super(Unet, self).__init__()\n",
        "        self.n_channels = in_channels\n",
        "        self.n_classes =  classes\n",
        "\n",
        "        self.inc = InConv(in_channels, 64)\n",
        "        self.down1 = Down(64, 128)\n",
        "        self.down2 = Down(128, 256)\n",
        "        self.down3 = Down(256, 512)\n",
        "        self.down4 = Down(512, 512)\n",
        "        self.up1 = Up(1024, 256)\n",
        "        self.up2 = Up(512, 128)\n",
        "        self.up3 = Up(256, 64)\n",
        "        self.up4 = Up(128, 64)\n",
        "        self.outc = OutConv(64, classes)\n",
        "\n",
        "    def forward(self, x):\n",
        "        x1 = self.inc(x)\n",
        "        x2 = self.down1(x1)\n",
        "        x3 = self.down2(x2)\n",
        "        x4 = self.down3(x3)\n",
        "        x5 = self.down4(x4)\n",
        "        x = self.up1(x5, x4)\n",
        "        x = self.up2(x, x3)\n",
        "        x = self.up3(x, x2)\n",
        "        x = self.up4(x, x1)\n",
        "        x = self.outc(x)\n",
        "        return x"
      ],
      "metadata": {
        "id": "Ycr5MYo_42xq"
      },
      "execution_count": 9,
      "outputs": []
    },
    {
      "cell_type": "code",
      "source": [
        "device = \"cuda\"\n",
        "unet = Unet(3,1).to(device)\n",
        "optimizer = torch.optim.Adam(unet.parameters(),lr=0.001)\n",
        "loss_func = nn.BCELoss()"
      ],
      "metadata": {
        "id": "NbIdv5a1MFq3"
      },
      "execution_count": 10,
      "outputs": []
    },
    {
      "cell_type": "code",
      "source": [
        "from statistics import mean\n",
        "from tqdm import tqdm\n",
        "from PIL import Image\n",
        "# Training Loop\n",
        "train_losses = []\n",
        "test_losses = []\n",
        "num_epochs = 10\n",
        "print(\"Starting Training Loop...\")\n",
        "def test():\n",
        "    temp_losses=[]\n",
        "    with torch.no_grad():\n",
        "        for i, data in tqdm(enumerate(test_dataloader, 0)):\n",
        "            images = data[0].to(device)\n",
        "            labels = data[1].to(device)\n",
        "            # labels/=labels.max()\n",
        "            unet_labels = torch.sigmoid(unet.forward(images))\n",
        "            loss = loss_func(unet_labels,labels)\n",
        "            temp_losses.append(loss.item())\n",
        "    print(\"test_loss:\",mean(temp_losses))\n",
        "    return mean(temp_losses)\n",
        "\n",
        "\n",
        "for epoch in range(num_epochs):\n",
        "    # For each batch in the dataloader\n",
        "    temp_losses = []\n",
        "    for i, data in enumerate(train_dataloader, 0):\n",
        "        images = data[0].to(device)\n",
        "        labels = data[1].to(device)\n",
        "        # labels/=labels.max()\n",
        "        unet.zero_grad()\n",
        "        unet_labels = unet.forward(images)\n",
        "        unet_labels_sigmoid =torch.sigmoid(unet_labels)\n",
        "        loss = loss_func(unet_labels_sigmoid,labels)\n",
        "        loss.backward()\n",
        "        optimizer.step()\n",
        "        temp_losses.append(loss.item())\n",
        "        # Output training stats\n",
        "        if i % 50 == 0:\n",
        "            print('[%d/%d][%d/%d]\\tLoss: %.4f'\n",
        "                  % (epoch, num_epochs, i, len(train_dataloader),\n",
        "                     loss.item()))\n",
        "\n",
        "        if i % 200==0:\n",
        "            train_losses.append(mean(temp_losses))\n",
        "            test_losses.append(test())"
      ],
      "metadata": {
        "id": "haXz8U7hNLkR"
      },
      "execution_count": null,
      "outputs": []
    },
    {
      "cell_type": "code",
      "source": [
        "assert 1==2"
      ],
      "metadata": {
        "id": "aR-qDZUmPqEZ"
      },
      "execution_count": null,
      "outputs": []
    },
    {
      "cell_type": "code",
      "source": [
        "for i, data in enumerate(test_dataloader, 0):\n",
        "    with torch.no_grad():\n",
        "      images = data[0].to(device)\n",
        "      labels = data[1].to(device)\n",
        "      # labels/=labels.max()\n",
        "      unet_labels = unet.forward(images)\n",
        "      unet_labels_sigmoid =torch.sigmoid(unet_labels)\n",
        "      break"
      ],
      "metadata": {
        "id": "Hny_MBZbW0eY"
      },
      "execution_count": 24,
      "outputs": []
    },
    {
      "cell_type": "code",
      "source": [
        "labels_test,labels_model = labels[0].cpu(),unet_labels_sigmoid[0].cpu()"
      ],
      "metadata": {
        "id": "CqqH9AyGZMOg"
      },
      "execution_count": 25,
      "outputs": []
    },
    {
      "cell_type": "code",
      "source": [
        "import matplotlib.pyplot as plt\n",
        "plt.subplot(1, 3, 1)\n",
        "plt.imshow(images[0].cpu().numpy().transpose(1, 2, 0))  # convert CHW -> HWC\n",
        "plt.title(\"Image\")\n",
        "plt.axis(\"off\")\n",
        "\n",
        "plt.subplot(1, 3, 2)\n",
        "plt.imshow(labels_test.numpy().transpose(1, 2, 0))  # convert CHW -> HWC\n",
        "plt.title(\"Image\")\n",
        "plt.axis(\"off\")\n",
        "\n",
        "plt.subplot(1, 3, 3)\n",
        "plt.imshow(labels_model.numpy().transpose(1, 2, 0))  # convert CHW -> HWC\n",
        "plt.title(\"Image\")\n",
        "plt.axis(\"off\")"
      ],
      "metadata": {
        "colab": {
          "base_uri": "https://localhost:8080/",
          "height": 240
        },
        "id": "q-R3-k2pZX7z",
        "outputId": "118f2dc9-dfc1-4f1e-8bb1-aa5927ac1738"
      },
      "execution_count": 26,
      "outputs": [
        {
          "output_type": "stream",
          "name": "stderr",
          "text": [
            "WARNING:matplotlib.image:Clipping input data to the valid range for imshow with RGB data ([0..1] for floats or [0..255] for integers).\n"
          ]
        },
        {
          "output_type": "execute_result",
          "data": {
            "text/plain": [
              "(-0.5, 255.5, 255.5, -0.5)"
            ]
          },
          "metadata": {},
          "execution_count": 26
        },
        {
          "output_type": "display_data",
          "data": {
            "text/plain": [
              "<Figure size 640x480 with 3 Axes>"
            ],
            "image/png": "[encoded data removed]"
          },
          "metadata": {}
        }
      ]
    }
  ]
}