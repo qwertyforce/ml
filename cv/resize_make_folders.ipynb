{
 "cells": [
  {
   "cell_type": "code",
   "execution_count": 7,
   "metadata": {},
   "outputs": [],
   "source": [
    "import os\n",
    "import shutil\n",
    "from tqdm import tqdm\n",
    "from PIL import Image\n",
    "\n",
    "class_labels = [\"good\",\"bad\"]\n",
    "cls_to_int = {\"good\":1,\"bad\":0}\n",
    "int_to_cls = {1:\"good\",0:\"bad\"}\n",
    "\n",
    "def create_folder(path):\n",
    "    try:\n",
    "        os.makedirs(path)\n",
    "    except:\n",
    "        pass\n",
    "for split in [\"train\",\"test\"]:  #val\n",
    "    for cls in class_labels:\n",
    "        create_folder(f\"./{split}/{cls}\")\n",
    "\n",
    "all_images_paths = []\n",
    "all_images_classes = []\n",
    "\n",
    "for cls in class_labels:\n",
    "    for file_name in os.listdir(f\"./all_images/{cls}\"):\n",
    "        if file_name == \".DS_Store\":\n",
    "            continue\n",
    "        all_images_paths.append((f\"./all_images/{cls}/{file_name}\",file_name))\n",
    "        all_images_classes.append(cls_to_int[cls])\n"
   ]
  },
  {
   "cell_type": "code",
   "execution_count": null,
   "metadata": {},
   "outputs": [],
   "source": [
    "from collections import Counter\n",
    "Counter(all_images_classes)"
   ]
  },
  {
   "cell_type": "code",
   "execution_count": null,
   "metadata": {},
   "outputs": [],
   "source": [
    "from sklearn.model_selection import train_test_split\n",
    "X_train, X_test, y_train, y_test = train_test_split(all_images_paths, all_images_classes, test_size=0.25)"
   ]
  },
  {
   "cell_type": "code",
   "execution_count": null,
   "metadata": {},
   "outputs": [],
   "source": [
    "# ttps://datascience.stackexchange.com/a/53161\n",
    "# train_ratio = 0.70\n",
    "# validation_ratio = 0.20\n",
    "# test_ratio = 0.10\n",
    "\n",
    "# X_train, X_test, y_train, y_test  = train_test_split(all_images_paths, all_images_classes, test_size=1 - train_ratio,random_state=42,shuffle=True)\n",
    "\n",
    "# X_val, X_test, y_val, y_test = train_test_split(X_test, y_test, test_size=test_ratio/(test_ratio + validation_ratio),random_state=1337,shuffle=True) "
   ]
  },
  {
   "cell_type": "code",
   "execution_count": null,
   "metadata": {},
   "outputs": [],
   "source": [
    "for i in tqdm(range(len(X_train))):\n",
    "    path, file_name = X_train[i]\n",
    "    path_to_copy = f\"./train/{int_to_cls[y_train[i]]}\"\n",
    "    img = Image.open(path).convert(\"RGB\").resize((224,224))\n",
    "    img.save(path_to_copy+file_name, quality=90)\n",
    "    # shutil.copy2(path,path_to_copy)"
   ]
  },
  {
   "cell_type": "code",
   "execution_count": null,
   "metadata": {},
   "outputs": [],
   "source": [
    "for i in tqdm(range(len(X_test))):\n",
    "    path, file_name = X_test[i]\n",
    "    path_to_copy = f\"./test/{int_to_cls[y_test[i]]}\"\n",
    "    img = Image.open(path).convert(\"RGB\").resize((224,224))\n",
    "    img.save(path_to_copy+file_name, quality=90)\n",
    "    # shutil.copy2(path,path_to_copy)"
   ]
  }
 ],
 "metadata": {
  "kernelspec": {
   "display_name": "Python 3",
   "language": "python",
   "name": "python3"
  },
  "language_info": {
   "codemirror_mode": {
    "name": "ipython",
    "version": 3
   },
   "file_extension": ".py",
   "mimetype": "text/x-python",
   "name": "python",
   "nbconvert_exporter": "python",
   "pygments_lexer": "ipython3",
   "version": "3.9.13"
  },
  "orig_nbformat": 4
 },
 "nbformat": 4,
 "nbformat_minor": 2
}
