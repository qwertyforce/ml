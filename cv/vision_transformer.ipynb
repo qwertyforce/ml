{
 "cells": [
  {
   "cell_type": "code",
   "execution_count": 2,
   "metadata": {},
   "outputs": [
    {
     "name": "stderr",
     "output_type": "stream",
     "text": [
      "/usr/local/lib/python3.9/dist-packages/tqdm/auto.py:22: TqdmWarning: IProgress not found. Please update jupyter and ipywidgets. See https://ipywidgets.readthedocs.io/en/stable/user_install.html\n",
      "  from .autonotebook import tqdm as notebook_tqdm\n"
     ]
    }
   ],
   "source": [
    "import torch\n",
    "from torch import nn\n",
    "import torchvision\n",
    "import torchvision.transforms as transforms"
   ]
  },
  {
   "cell_type": "code",
   "execution_count": 32,
   "metadata": {},
   "outputs": [],
   "source": [
    "import numpy as np"
   ]
  },
  {
   "cell_type": "code",
   "execution_count": 101,
   "metadata": {},
   "outputs": [
    {
     "name": "stdout",
     "output_type": "stream",
     "text": [
      "Files already downloaded and verified\n",
      "Files already downloaded and verified\n"
     ]
    }
   ],
   "source": [
    "transform = transforms.Compose(\n",
    "    [transforms.ToTensor(),\n",
    "     transforms.Normalize((0.5, 0.5, 0.5), (0.5, 0.5, 0.5))])\n",
    "\n",
    "batch_size = 256\n",
    "\n",
    "trainset = torchvision.datasets.CIFAR10(root='./data', train=True,download=True, transform=transform)\n",
    "trainloader = torch.utils.data.DataLoader(trainset, batch_size=batch_size,shuffle=True)\n",
    "\n",
    "testset = torchvision.datasets.CIFAR10(root='./data', train=False,download=True, transform=transform)\n",
    "testloader = torch.utils.data.DataLoader(testset, batch_size=batch_size,shuffle=False)"
   ]
  },
  {
   "cell_type": "code",
   "execution_count": 77,
   "metadata": {},
   "outputs": [],
   "source": [
    "class PatchEmbedding(nn.Module):\n",
    "    def __init__(self, config):\n",
    "        super().__init__()\n",
    "        self.image_size = config.img_size\n",
    "        self.patch_size = config.patch_size\n",
    "        self.d_embed = config.d_embed\n",
    "        self.num_patches = (self.image_size // self.patch_size) ** 2\n",
    "        self.conv = nn.Conv2d(3, self.d_embed, kernel_size=self.patch_size, stride=self.patch_size) \n",
    "        \n",
    "    def forward(self, x):\n",
    "        # (batch_size, num_channels, image_size, image_size) -> (batch_size, num_patches, hidden_size)\n",
    "        return self.conv(x).flatten(2).transpose(1, 2) "
   ]
  },
  {
   "cell_type": "code",
   "execution_count": 78,
   "metadata": {},
   "outputs": [],
   "source": [
    "class MultiHeadedSelfAttention(nn.Module):\n",
    "    def __init__(self, config):\n",
    "        super().__init__()\n",
    "        n_heads, d_embed, dropout_attn, dropout_proj, device = config.n_heads, config.d_embed, config.dropout_attn, config.dropout_proj, config.device\n",
    "\n",
    "        assert d_embed % n_heads == 0        \n",
    "        self.hid_dim = d_embed\n",
    "        self.n_heads = n_heads\n",
    "        self.head_dim = d_embed // n_heads\n",
    "        \n",
    "        self.fc_q = nn.Linear(d_embed, d_embed)\n",
    "        self.fc_k = nn.Linear(d_embed, d_embed)\n",
    "        self.fc_v = nn.Linear(d_embed, d_embed)\n",
    "        self.proj = nn.Linear(d_embed, d_embed)\n",
    "        \n",
    "        self.dropout_attn = nn.Dropout(dropout_attn)\n",
    "        self.dropout_proj = nn.Dropout(dropout_proj)\n",
    "        self.scale = torch.sqrt(torch.FloatTensor([self.head_dim])).to(device)\n",
    "        \n",
    "    def forward(self, x, mask = None):       \n",
    "        batch_size = x.shape[0]\n",
    "\n",
    "        Q,K,V = self.fc_q(x), self.fc_k(x), self.fc_v(x) #[batch size, query len, hid dim\n",
    "    \n",
    "        Q = Q.view(batch_size, -1, self.n_heads, self.head_dim).permute(0, 2, 1, 3) # [batch size, n heads, query len, head dim]\n",
    "        K = K.view(batch_size, -1, self.n_heads, self.head_dim).permute(0, 2, 1, 3)  \n",
    "        V = V.view(batch_size, -1, self.n_heads, self.head_dim).permute(0, 2, 1, 3) \n",
    "                \n",
    "        attention = torch.matmul(Q, K.permute(0, 1, 3, 2)) /  self.scale  #attention = [batch size, n heads, query len, key len]\n",
    "        \n",
    "        if mask is not None:\n",
    "            attention = attention.masked_fill(mask == 0, float('-inf'))\n",
    "        \n",
    "        attention = self.dropout_attn(torch.softmax(attention, dim = -1)) # Attention Dropout;  attention = [batch size, n heads, query len, key len]\n",
    "                \n",
    "        x = torch.matmul(attention, V) #x = [batch size, n heads, query len, head dim]\n",
    "        x = x.permute(0, 2, 1, 3).contiguous() #x = [batch size, query len, n heads, head dim]\n",
    "        x = x.view(batch_size, -1, self.hid_dim) #x = [batch size, query len, hid dim] (hidden concat of all heads)\n",
    "        x = self.dropout_proj(self.proj(x)) #x = [batch size, query len, hid dim]\n",
    "\n",
    "        return x #,attention"
   ]
  },
  {
   "cell_type": "code",
   "execution_count": 79,
   "metadata": {},
   "outputs": [],
   "source": [
    "class EncoderBlock(nn.Module):\n",
    "    def __init__(self, config):\n",
    "        super().__init__()\n",
    "        self.mhsa = MultiHeadedSelfAttention(config)\n",
    "        self.pwff = nn.Sequential(\n",
    "            nn.Linear(config.d_embed, config.d_ff),\n",
    "            nn.GELU(),\n",
    "            nn.Linear(config.d_ff, config.d_embed),\n",
    "            nn.Dropout(config.dropout_pwff)\n",
    "        )\n",
    "        self.ln_mhsa = nn.LayerNorm(config.d_embed)\n",
    "        self.ln_pwff = nn.LayerNorm(config.d_embed)\n",
    "        self.dropout = nn.Dropout(config.dropout_res)\n",
    "\n",
    "    def forward(self, x, mask=None):\n",
    "        x = x + self.dropout(self.mhsa(self.ln_mhsa(x)))   # Pre-LN\n",
    "        x = x + self.dropout(self.pwff(self.ln_pwff(x)))\n",
    "        return x"
   ]
  },
  {
   "cell_type": "code",
   "execution_count": 80,
   "metadata": {},
   "outputs": [],
   "source": [
    "class ViT(nn.Module):\n",
    "    \"\"\"Vision Transformer.\"\"\"\n",
    "    def __init__(self, config):\n",
    "        super().__init__()\n",
    "        self.patch_embedding = PatchEmbedding(config)\n",
    "        self.cls_token = nn.Parameter(torch.zeros(1, 1, config.d_embed))\n",
    "        num_tokens = self.patch_embedding.num_patches + 1  # Add the cls token\n",
    "        self.pos_embedding = nn.Parameter(torch.randn(1, num_tokens, config.d_embed))\n",
    "        self.dropout = nn.Dropout(config.dropout_emb)\n",
    "        self.enc_blocks = nn.ModuleList([EncoderBlock(config) for _ in range(config.enc_blocks)])\n",
    "        self.head = nn.Sequential(nn.LayerNorm(config.d_embed), nn.Linear(config.d_embed, config.num_classes))\n",
    "\n",
    "    def forward(self, x):\n",
    "        x = self.patch_embedding(x)\n",
    "        x = torch.cat((self.cls_token.expand(x.shape[0], -1, -1), x), 1)\n",
    "        x = self.dropout(x + self.pos_embedding)\n",
    "        for enc_block in self.enc_blocks:\n",
    "            x = enc_block(x)\n",
    "        return self.head(x[:, 0])"
   ]
  },
  {
   "cell_type": "code",
   "execution_count": 177,
   "metadata": {},
   "outputs": [],
   "source": [
    "from dataclasses import dataclass\n",
    "\n",
    "@dataclass\n",
    "class ModelConfig:\n",
    "    d_embed: int\n",
    "    d_ff: int\n",
    "    n_heads: int\n",
    "    enc_blocks: int\n",
    "    img_size: int\n",
    "    patch_size: int\n",
    "    num_classes: int\n",
    "    dropout_res: float\n",
    "    dropout_attn: float\n",
    "    dropout_proj: float\n",
    "    dropout_emb: float\n",
    "    dropout_pwff: float\n",
    "    device: str\n",
    "\n",
    "config = ModelConfig(\n",
    "    d_embed = 32,\n",
    "    d_ff = 4*32,\n",
    "    n_heads = 8,\n",
    "    img_size = 32,\n",
    "    patch_size= 2,\n",
    "    enc_blocks = 4,\n",
    "    num_classes = 10,\n",
    "    dropout_res = 0.1,\n",
    "    dropout_attn = 0.1,\n",
    "    dropout_proj= 0.1,\n",
    "    dropout_emb=  0.1,\n",
    "    dropout_pwff = 0.1,\n",
    "    device=\"cuda\"\n",
    ")"
   ]
  },
  {
   "cell_type": "code",
   "execution_count": 178,
   "metadata": {},
   "outputs": [],
   "source": [
    "model = ViT(config)\n",
    "model = model.to(\"cuda\")"
   ]
  },
  {
   "cell_type": "code",
   "execution_count": 179,
   "metadata": {},
   "outputs": [],
   "source": [
    "import torch.optim as optim\n",
    "\n",
    "criterion = nn.CrossEntropyLoss()\n",
    "optimizer = optim.Adam(model.parameters(), lr=0.005)"
   ]
  },
  {
   "cell_type": "code",
   "execution_count": 166,
   "metadata": {},
   "outputs": [],
   "source": [
    "from statistics import mean"
   ]
  },
  {
   "cell_type": "code",
   "execution_count": 180,
   "metadata": {},
   "outputs": [
    {
     "name": "stderr",
     "output_type": "stream",
     "text": [
      "196it [01:03,  3.07it/s]\n",
      "100%|██████████| 40/40 [00:05<00:00,  7.08it/s]\n"
     ]
    },
    {
     "name": "stdout",
     "output_type": "stream",
     "text": [
      "epoch 0 train loss = 1.940122739392884\n",
      "epoch 0 test loss = 1.742974054813385\n"
     ]
    },
    {
     "name": "stderr",
     "output_type": "stream",
     "text": [
      "196it [01:03,  3.08it/s]\n",
      "100%|██████████| 40/40 [00:05<00:00,  7.04it/s]\n"
     ]
    },
    {
     "name": "stdout",
     "output_type": "stream",
     "text": [
      "epoch 1 train loss = 1.6930594851776046\n",
      "epoch 1 test loss = 1.5906618744134904\n"
     ]
    },
    {
     "name": "stderr",
     "output_type": "stream",
     "text": [
      "196it [01:03,  3.08it/s]\n",
      "100%|██████████| 40/40 [00:05<00:00,  7.01it/s]\n"
     ]
    },
    {
     "name": "stdout",
     "output_type": "stream",
     "text": [
      "epoch 2 train loss = 1.5608889959296401\n",
      "epoch 2 test loss = 1.4887420862913132\n"
     ]
    },
    {
     "name": "stderr",
     "output_type": "stream",
     "text": [
      "196it [01:03,  3.08it/s]\n",
      "100%|██████████| 40/40 [00:05<00:00,  7.01it/s]\n"
     ]
    },
    {
     "name": "stdout",
     "output_type": "stream",
     "text": [
      "epoch 3 train loss = 1.4839813709259033\n",
      "epoch 3 test loss = 1.4473899722099304\n"
     ]
    },
    {
     "name": "stderr",
     "output_type": "stream",
     "text": [
      "196it [01:03,  3.10it/s]\n",
      "100%|██████████| 40/40 [00:05<00:00,  7.05it/s]\n"
     ]
    },
    {
     "name": "stdout",
     "output_type": "stream",
     "text": [
      "epoch 4 train loss = 1.4153378934276348\n",
      "epoch 4 test loss = 1.3972768783569336\n"
     ]
    },
    {
     "name": "stderr",
     "output_type": "stream",
     "text": [
      "196it [01:03,  3.08it/s]\n",
      "100%|██████████| 40/40 [00:05<00:00,  7.03it/s]\n"
     ]
    },
    {
     "name": "stdout",
     "output_type": "stream",
     "text": [
      "epoch 5 train loss = 1.3656446927664232\n",
      "epoch 5 test loss = 1.3493661493062974\n"
     ]
    },
    {
     "name": "stderr",
     "output_type": "stream",
     "text": [
      "196it [01:03,  3.08it/s]\n",
      "100%|██████████| 40/40 [00:05<00:00,  7.07it/s]\n"
     ]
    },
    {
     "name": "stdout",
     "output_type": "stream",
     "text": [
      "epoch 6 train loss = 1.318054412700692\n",
      "epoch 6 test loss = 1.298136168718338\n"
     ]
    },
    {
     "name": "stderr",
     "output_type": "stream",
     "text": [
      "196it [01:03,  3.08it/s]\n",
      "100%|██████████| 40/40 [00:05<00:00,  7.07it/s]\n"
     ]
    },
    {
     "name": "stdout",
     "output_type": "stream",
     "text": [
      "epoch 7 train loss = 1.275936130966459\n",
      "epoch 7 test loss = 1.3125485599040985\n"
     ]
    },
    {
     "name": "stderr",
     "output_type": "stream",
     "text": [
      "196it [01:03,  3.08it/s]\n",
      "100%|██████████| 40/40 [00:05<00:00,  7.07it/s]\n"
     ]
    },
    {
     "name": "stdout",
     "output_type": "stream",
     "text": [
      "epoch 8 train loss = 1.2436878687264967\n",
      "epoch 8 test loss = 1.257822984457016\n"
     ]
    },
    {
     "name": "stderr",
     "output_type": "stream",
     "text": [
      "196it [01:03,  3.07it/s]\n",
      "100%|██████████| 40/40 [00:05<00:00,  6.97it/s]\n"
     ]
    },
    {
     "name": "stdout",
     "output_type": "stream",
     "text": [
      "epoch 9 train loss = 1.2032756008663956\n",
      "epoch 9 test loss = 1.2103336840867995\n"
     ]
    },
    {
     "name": "stderr",
     "output_type": "stream",
     "text": [
      "196it [01:03,  3.09it/s]\n",
      "100%|██████████| 40/40 [00:05<00:00,  7.08it/s]\n"
     ]
    },
    {
     "name": "stdout",
     "output_type": "stream",
     "text": [
      "epoch 10 train loss = 1.1706724139500637\n",
      "epoch 10 test loss = 1.1752688497304917\n"
     ]
    },
    {
     "name": "stderr",
     "output_type": "stream",
     "text": [
      "196it [01:03,  3.08it/s]\n",
      "100%|██████████| 40/40 [00:05<00:00,  7.06it/s]\n"
     ]
    },
    {
     "name": "stdout",
     "output_type": "stream",
     "text": [
      "epoch 11 train loss = 1.1469547973603618\n",
      "epoch 11 test loss = 1.1903670102357864\n"
     ]
    },
    {
     "name": "stderr",
     "output_type": "stream",
     "text": [
      "196it [01:03,  3.09it/s]\n",
      "100%|██████████| 40/40 [00:05<00:00,  7.03it/s]\n"
     ]
    },
    {
     "name": "stdout",
     "output_type": "stream",
     "text": [
      "epoch 12 train loss = 1.1269513730491911\n",
      "epoch 12 test loss = 1.1455669164657594\n"
     ]
    },
    {
     "name": "stderr",
     "output_type": "stream",
     "text": [
      "196it [01:03,  3.08it/s]\n",
      "100%|██████████| 40/40 [00:05<00:00,  7.02it/s]\n"
     ]
    },
    {
     "name": "stdout",
     "output_type": "stream",
     "text": [
      "epoch 13 train loss = 1.0933138563924907\n",
      "epoch 13 test loss = 1.1275578081607818\n"
     ]
    },
    {
     "name": "stderr",
     "output_type": "stream",
     "text": [
      "196it [01:03,  3.08it/s]\n",
      "100%|██████████| 40/40 [00:05<00:00,  7.05it/s]\n"
     ]
    },
    {
     "name": "stdout",
     "output_type": "stream",
     "text": [
      "epoch 14 train loss = 1.0678511337966334\n",
      "epoch 14 test loss = 1.1150738194584846\n"
     ]
    },
    {
     "name": "stderr",
     "output_type": "stream",
     "text": [
      "196it [01:03,  3.08it/s]\n",
      "100%|██████████| 40/40 [00:05<00:00,  6.97it/s]\n"
     ]
    },
    {
     "name": "stdout",
     "output_type": "stream",
     "text": [
      "epoch 15 train loss = 1.0571274952012666\n",
      "epoch 15 test loss = 1.1819162994623185\n"
     ]
    },
    {
     "name": "stderr",
     "output_type": "stream",
     "text": [
      "196it [01:03,  3.09it/s]\n",
      "100%|██████████| 40/40 [00:05<00:00,  7.03it/s]\n"
     ]
    },
    {
     "name": "stdout",
     "output_type": "stream",
     "text": [
      "epoch 16 train loss = 1.0340331522177677\n",
      "epoch 16 test loss = 1.1314328864216805\n"
     ]
    },
    {
     "name": "stderr",
     "output_type": "stream",
     "text": [
      "196it [01:03,  3.08it/s]\n",
      "100%|██████████| 40/40 [00:05<00:00,  6.95it/s]\n"
     ]
    },
    {
     "name": "stdout",
     "output_type": "stream",
     "text": [
      "epoch 17 train loss = 1.0113973197888355\n",
      "epoch 17 test loss = 1.0795228496193885\n"
     ]
    },
    {
     "name": "stderr",
     "output_type": "stream",
     "text": [
      "196it [01:03,  3.09it/s]\n",
      "100%|██████████| 40/40 [00:05<00:00,  7.05it/s]\n"
     ]
    },
    {
     "name": "stdout",
     "output_type": "stream",
     "text": [
      "epoch 18 train loss = 0.9960138946771622\n",
      "epoch 18 test loss = 1.0479458525776864\n"
     ]
    },
    {
     "name": "stderr",
     "output_type": "stream",
     "text": [
      "196it [01:03,  3.08it/s]\n",
      "100%|██████████| 40/40 [00:05<00:00,  7.03it/s]\n"
     ]
    },
    {
     "name": "stdout",
     "output_type": "stream",
     "text": [
      "epoch 19 train loss = 0.983663544362905\n",
      "epoch 19 test loss = 1.0636861011385919\n"
     ]
    },
    {
     "name": "stderr",
     "output_type": "stream",
     "text": [
      "196it [01:03,  3.08it/s]\n",
      "100%|██████████| 40/40 [00:05<00:00,  7.00it/s]\n"
     ]
    },
    {
     "name": "stdout",
     "output_type": "stream",
     "text": [
      "epoch 20 train loss = 0.9601980493384965\n",
      "epoch 20 test loss = 1.0493576854467392\n"
     ]
    },
    {
     "name": "stderr",
     "output_type": "stream",
     "text": [
      "196it [01:03,  3.08it/s]\n",
      "100%|██████████| 40/40 [00:05<00:00,  7.01it/s]\n"
     ]
    },
    {
     "name": "stdout",
     "output_type": "stream",
     "text": [
      "epoch 21 train loss = 0.9444583082685665\n",
      "epoch 21 test loss = 1.0320068776607514\n"
     ]
    },
    {
     "name": "stderr",
     "output_type": "stream",
     "text": [
      "196it [01:03,  3.08it/s]\n",
      "100%|██████████| 40/40 [00:05<00:00,  7.02it/s]\n"
     ]
    },
    {
     "name": "stdout",
     "output_type": "stream",
     "text": [
      "epoch 22 train loss = 0.9345099478960037\n",
      "epoch 22 test loss = 1.0141386702656745\n"
     ]
    },
    {
     "name": "stderr",
     "output_type": "stream",
     "text": [
      "196it [01:03,  3.08it/s]\n",
      "100%|██████████| 40/40 [00:05<00:00,  6.99it/s]\n"
     ]
    },
    {
     "name": "stdout",
     "output_type": "stream",
     "text": [
      "epoch 23 train loss = 0.9185668035429351\n",
      "epoch 23 test loss = 1.0197104975581168\n"
     ]
    },
    {
     "name": "stderr",
     "output_type": "stream",
     "text": [
      "196it [01:03,  3.08it/s]\n",
      "100%|██████████| 40/40 [00:05<00:00,  7.02it/s]\n"
     ]
    },
    {
     "name": "stdout",
     "output_type": "stream",
     "text": [
      "epoch 24 train loss = 0.9076057505242678\n",
      "epoch 24 test loss = 1.0262231349945068\n"
     ]
    },
    {
     "name": "stderr",
     "output_type": "stream",
     "text": [
      "196it [01:03,  3.08it/s]\n",
      "100%|██████████| 40/40 [00:05<00:00,  6.94it/s]\n"
     ]
    },
    {
     "name": "stdout",
     "output_type": "stream",
     "text": [
      "epoch 25 train loss = 0.8925946567739759\n",
      "epoch 25 test loss = 0.9680291101336479\n"
     ]
    },
    {
     "name": "stderr",
     "output_type": "stream",
     "text": [
      "196it [01:04,  3.03it/s]\n",
      "100%|██████████| 40/40 [00:05<00:00,  6.85it/s]\n"
     ]
    },
    {
     "name": "stdout",
     "output_type": "stream",
     "text": [
      "epoch 26 train loss = 0.8892619664571724\n",
      "epoch 26 test loss = 0.995248843729496\n"
     ]
    },
    {
     "name": "stderr",
     "output_type": "stream",
     "text": [
      "196it [01:04,  3.04it/s]\n",
      "100%|██████████| 40/40 [00:05<00:00,  6.87it/s]\n"
     ]
    },
    {
     "name": "stdout",
     "output_type": "stream",
     "text": [
      "epoch 27 train loss = 0.8751740218425283\n",
      "epoch 27 test loss = 0.9996488943696022\n"
     ]
    },
    {
     "name": "stderr",
     "output_type": "stream",
     "text": [
      "196it [01:03,  3.06it/s]\n",
      "100%|██████████| 40/40 [00:05<00:00,  6.99it/s]\n"
     ]
    },
    {
     "name": "stdout",
     "output_type": "stream",
     "text": [
      "epoch 28 train loss = 0.8656235747799581\n",
      "epoch 28 test loss = 0.9596620574593544\n"
     ]
    },
    {
     "name": "stderr",
     "output_type": "stream",
     "text": [
      "196it [01:03,  3.07it/s]\n",
      "100%|██████████| 40/40 [00:05<00:00,  7.03it/s]\n"
     ]
    },
    {
     "name": "stdout",
     "output_type": "stream",
     "text": [
      "epoch 29 train loss = 0.8568605516029864\n",
      "epoch 29 test loss = 0.9754123643040657\n"
     ]
    },
    {
     "name": "stderr",
     "output_type": "stream",
     "text": [
      "196it [01:03,  3.10it/s]\n",
      "100%|██████████| 40/40 [00:05<00:00,  6.97it/s]\n"
     ]
    },
    {
     "name": "stdout",
     "output_type": "stream",
     "text": [
      "epoch 30 train loss = 0.8447643153521479\n",
      "epoch 30 test loss = 0.970204921066761\n"
     ]
    },
    {
     "name": "stderr",
     "output_type": "stream",
     "text": [
      "196it [01:03,  3.08it/s]\n",
      "100%|██████████| 40/40 [00:05<00:00,  7.05it/s]\n"
     ]
    },
    {
     "name": "stdout",
     "output_type": "stream",
     "text": [
      "epoch 31 train loss = 0.8384064594093634\n",
      "epoch 31 test loss = 0.980829419195652\n"
     ]
    },
    {
     "name": "stderr",
     "output_type": "stream",
     "text": [
      "196it [01:03,  3.08it/s]\n",
      "100%|██████████| 40/40 [00:05<00:00,  6.97it/s]\n"
     ]
    },
    {
     "name": "stdout",
     "output_type": "stream",
     "text": [
      "epoch 32 train loss = 0.8321192942711771\n",
      "epoch 32 test loss = 0.947392538189888\n"
     ]
    },
    {
     "name": "stderr",
     "output_type": "stream",
     "text": [
      "196it [01:03,  3.09it/s]\n",
      "100%|██████████| 40/40 [00:05<00:00,  7.01it/s]\n"
     ]
    },
    {
     "name": "stdout",
     "output_type": "stream",
     "text": [
      "epoch 33 train loss = 0.8269775512875343\n",
      "epoch 33 test loss = 0.9632150068879127\n"
     ]
    },
    {
     "name": "stderr",
     "output_type": "stream",
     "text": [
      "196it [01:03,  3.08it/s]\n",
      "100%|██████████| 40/40 [00:05<00:00,  6.99it/s]\n"
     ]
    },
    {
     "name": "stdout",
     "output_type": "stream",
     "text": [
      "epoch 34 train loss = 0.816292693116227\n",
      "epoch 34 test loss = 0.9800677314400673\n"
     ]
    },
    {
     "name": "stderr",
     "output_type": "stream",
     "text": [
      "196it [01:03,  3.08it/s]\n",
      "100%|██████████| 40/40 [00:05<00:00,  6.98it/s]\n"
     ]
    },
    {
     "name": "stdout",
     "output_type": "stream",
     "text": [
      "epoch 35 train loss = 0.8120911738702229\n",
      "epoch 35 test loss = 0.9489795953035355\n"
     ]
    },
    {
     "name": "stderr",
     "output_type": "stream",
     "text": [
      "196it [01:03,  3.08it/s]\n",
      "100%|██████████| 40/40 [00:05<00:00,  7.01it/s]\n"
     ]
    },
    {
     "name": "stdout",
     "output_type": "stream",
     "text": [
      "epoch 36 train loss = 0.807541090919047\n",
      "epoch 36 test loss = 0.9214377000927925\n"
     ]
    },
    {
     "name": "stderr",
     "output_type": "stream",
     "text": [
      "196it [01:03,  3.08it/s]\n",
      "100%|██████████| 40/40 [00:05<00:00,  7.05it/s]\n"
     ]
    },
    {
     "name": "stdout",
     "output_type": "stream",
     "text": [
      "epoch 37 train loss = 0.7977446664352806\n",
      "epoch 37 test loss = 0.97166106402874\n"
     ]
    },
    {
     "name": "stderr",
     "output_type": "stream",
     "text": [
      "196it [01:03,  3.09it/s]\n",
      "100%|██████████| 40/40 [00:05<00:00,  7.09it/s]\n"
     ]
    },
    {
     "name": "stdout",
     "output_type": "stream",
     "text": [
      "epoch 38 train loss = 0.7971872021349109\n",
      "epoch 38 test loss = 0.9367776706814765\n"
     ]
    },
    {
     "name": "stderr",
     "output_type": "stream",
     "text": [
      "196it [01:03,  3.09it/s]\n",
      "100%|██████████| 40/40 [00:05<00:00,  7.07it/s]\n"
     ]
    },
    {
     "name": "stdout",
     "output_type": "stream",
     "text": [
      "epoch 39 train loss = 0.783519809343377\n",
      "epoch 39 test loss = 0.9378376886248588\n"
     ]
    },
    {
     "name": "stderr",
     "output_type": "stream",
     "text": [
      "196it [01:03,  3.08it/s]\n",
      "100%|██████████| 40/40 [00:05<00:00,  7.05it/s]\n"
     ]
    },
    {
     "name": "stdout",
     "output_type": "stream",
     "text": [
      "epoch 40 train loss = 0.7794041016272136\n",
      "epoch 40 test loss = 0.9412903383374214\n"
     ]
    },
    {
     "name": "stderr",
     "output_type": "stream",
     "text": [
      "196it [01:03,  3.09it/s]\n",
      "100%|██████████| 40/40 [00:05<00:00,  7.07it/s]\n"
     ]
    },
    {
     "name": "stdout",
     "output_type": "stream",
     "text": [
      "epoch 41 train loss = 0.7777624753664951\n",
      "epoch 41 test loss = 0.9557913944125176\n"
     ]
    },
    {
     "name": "stderr",
     "output_type": "stream",
     "text": [
      "196it [01:03,  3.08it/s]\n",
      "100%|██████████| 40/40 [00:05<00:00,  6.95it/s]\n"
     ]
    },
    {
     "name": "stdout",
     "output_type": "stream",
     "text": [
      "epoch 42 train loss = 0.7731004722264349\n",
      "epoch 42 test loss = 0.9216069549322128\n"
     ]
    },
    {
     "name": "stderr",
     "output_type": "stream",
     "text": [
      "196it [01:03,  3.08it/s]\n",
      "100%|██████████| 40/40 [00:05<00:00,  7.05it/s]\n"
     ]
    },
    {
     "name": "stdout",
     "output_type": "stream",
     "text": [
      "epoch 43 train loss = 0.7679167779124513\n",
      "epoch 43 test loss = 0.9205767408013343\n"
     ]
    },
    {
     "name": "stderr",
     "output_type": "stream",
     "text": [
      "196it [01:03,  3.08it/s]\n",
      "100%|██████████| 40/40 [00:05<00:00,  7.04it/s]\n"
     ]
    },
    {
     "name": "stdout",
     "output_type": "stream",
     "text": [
      "epoch 44 train loss = 0.7533549724184737\n",
      "epoch 44 test loss = 0.9240756124258042\n"
     ]
    },
    {
     "name": "stderr",
     "output_type": "stream",
     "text": [
      "196it [01:03,  3.09it/s]\n",
      "100%|██████████| 40/40 [00:05<00:00,  7.06it/s]\n"
     ]
    },
    {
     "name": "stdout",
     "output_type": "stream",
     "text": [
      "epoch 45 train loss = 0.7520748005837811\n",
      "epoch 45 test loss = 0.9064355179667473\n"
     ]
    },
    {
     "name": "stderr",
     "output_type": "stream",
     "text": [
      "196it [01:03,  3.08it/s]\n",
      "100%|██████████| 40/40 [00:05<00:00,  7.03it/s]\n"
     ]
    },
    {
     "name": "stdout",
     "output_type": "stream",
     "text": [
      "epoch 46 train loss = 0.7506173313880453\n",
      "epoch 46 test loss = 0.9307303503155708\n"
     ]
    },
    {
     "name": "stderr",
     "output_type": "stream",
     "text": [
      "196it [01:03,  3.08it/s]\n",
      "100%|██████████| 40/40 [00:05<00:00,  7.05it/s]\n"
     ]
    },
    {
     "name": "stdout",
     "output_type": "stream",
     "text": [
      "epoch 47 train loss = 0.7421056457928249\n",
      "epoch 47 test loss = 0.922893314063549\n"
     ]
    },
    {
     "name": "stderr",
     "output_type": "stream",
     "text": [
      "196it [01:03,  3.09it/s]\n",
      "100%|██████████| 40/40 [00:05<00:00,  7.04it/s]\n"
     ]
    },
    {
     "name": "stdout",
     "output_type": "stream",
     "text": [
      "epoch 48 train loss = 0.7439628140050538\n",
      "epoch 48 test loss = 0.906948758661747\n"
     ]
    },
    {
     "name": "stderr",
     "output_type": "stream",
     "text": [
      "196it [01:03,  3.08it/s]\n",
      "100%|██████████| 40/40 [00:05<00:00,  7.08it/s]\n"
     ]
    },
    {
     "name": "stdout",
     "output_type": "stream",
     "text": [
      "epoch 49 train loss = 0.7388245454248117\n",
      "epoch 49 test loss = 0.9377332270145416\n"
     ]
    },
    {
     "name": "stderr",
     "output_type": "stream",
     "text": [
      "196it [01:03,  3.08it/s]\n",
      "100%|██████████| 40/40 [00:05<00:00,  6.97it/s]\n"
     ]
    },
    {
     "name": "stdout",
     "output_type": "stream",
     "text": [
      "epoch 50 train loss = 0.733157787091878\n",
      "epoch 50 test loss = 0.919952355325222\n"
     ]
    },
    {
     "name": "stderr",
     "output_type": "stream",
     "text": [
      "196it [01:03,  3.09it/s]\n",
      "100%|██████████| 40/40 [00:05<00:00,  7.00it/s]\n"
     ]
    },
    {
     "name": "stdout",
     "output_type": "stream",
     "text": [
      "epoch 51 train loss = 0.7261824498371202\n",
      "epoch 51 test loss = 0.9214814141392708\n"
     ]
    },
    {
     "name": "stderr",
     "output_type": "stream",
     "text": [
      "196it [01:03,  3.09it/s]\n",
      "100%|██████████| 40/40 [00:05<00:00,  6.97it/s]\n"
     ]
    },
    {
     "name": "stdout",
     "output_type": "stream",
     "text": [
      "epoch 52 train loss = 0.7283709678722887\n",
      "epoch 52 test loss = 0.8757079929113388\n"
     ]
    },
    {
     "name": "stderr",
     "output_type": "stream",
     "text": [
      "196it [01:03,  3.09it/s]\n",
      "100%|██████████| 40/40 [00:05<00:00,  7.06it/s]\n"
     ]
    },
    {
     "name": "stdout",
     "output_type": "stream",
     "text": [
      "epoch 53 train loss = 0.72389603299754\n",
      "epoch 53 test loss = 0.9099227085709571\n"
     ]
    },
    {
     "name": "stderr",
     "output_type": "stream",
     "text": [
      "196it [01:03,  3.09it/s]\n",
      "100%|██████████| 40/40 [00:05<00:00,  7.06it/s]\n"
     ]
    },
    {
     "name": "stdout",
     "output_type": "stream",
     "text": [
      "epoch 54 train loss = 0.7241723951028318\n",
      "epoch 54 test loss = 0.9286611542105675\n"
     ]
    },
    {
     "name": "stderr",
     "output_type": "stream",
     "text": [
      "196it [01:03,  3.09it/s]\n",
      "100%|██████████| 40/40 [00:05<00:00,  6.91it/s]\n"
     ]
    },
    {
     "name": "stdout",
     "output_type": "stream",
     "text": [
      "epoch 55 train loss = 0.7127300336652872\n",
      "epoch 55 test loss = 0.938607594370842\n"
     ]
    },
    {
     "name": "stderr",
     "output_type": "stream",
     "text": [
      "196it [01:03,  3.09it/s]\n",
      "100%|██████████| 40/40 [00:05<00:00,  7.03it/s]\n"
     ]
    },
    {
     "name": "stdout",
     "output_type": "stream",
     "text": [
      "epoch 56 train loss = 0.7147331380722474\n",
      "epoch 56 test loss = 0.9165164530277252\n"
     ]
    },
    {
     "name": "stderr",
     "output_type": "stream",
     "text": [
      "196it [01:03,  3.08it/s]\n",
      "100%|██████████| 40/40 [00:05<00:00,  7.02it/s]\n"
     ]
    },
    {
     "name": "stdout",
     "output_type": "stream",
     "text": [
      "epoch 57 train loss = 0.7067903885427786\n",
      "epoch 57 test loss = 0.9102778151631356\n"
     ]
    },
    {
     "name": "stderr",
     "output_type": "stream",
     "text": [
      "196it [01:03,  3.09it/s]\n",
      "100%|██████████| 40/40 [00:05<00:00,  7.05it/s]\n"
     ]
    },
    {
     "name": "stdout",
     "output_type": "stream",
     "text": [
      "epoch 58 train loss = 0.7049906202116791\n",
      "epoch 58 test loss = 0.9086463883519172\n"
     ]
    },
    {
     "name": "stderr",
     "output_type": "stream",
     "text": [
      "196it [01:03,  3.10it/s]\n",
      "100%|██████████| 40/40 [00:05<00:00,  7.01it/s]\n"
     ]
    },
    {
     "name": "stdout",
     "output_type": "stream",
     "text": [
      "epoch 59 train loss = 0.7063377663797262\n",
      "epoch 59 test loss = 0.8926156744360924\n"
     ]
    },
    {
     "name": "stderr",
     "output_type": "stream",
     "text": [
      "196it [01:04,  3.05it/s]\n",
      "100%|██████████| 40/40 [00:05<00:00,  6.87it/s]\n"
     ]
    },
    {
     "name": "stdout",
     "output_type": "stream",
     "text": [
      "epoch 60 train loss = 0.6941517472875361\n",
      "epoch 60 test loss = 0.8799669563770294\n"
     ]
    },
    {
     "name": "stderr",
     "output_type": "stream",
     "text": [
      "196it [01:04,  3.03it/s]\n",
      "100%|██████████| 40/40 [00:05<00:00,  6.86it/s]\n"
     ]
    },
    {
     "name": "stdout",
     "output_type": "stream",
     "text": [
      "epoch 61 train loss = 0.6943110990889219\n",
      "epoch 61 test loss = 0.8984692484140396\n"
     ]
    },
    {
     "name": "stderr",
     "output_type": "stream",
     "text": [
      "196it [01:03,  3.07it/s]\n",
      "100%|██████████| 40/40 [00:05<00:00,  7.05it/s]\n"
     ]
    },
    {
     "name": "stdout",
     "output_type": "stream",
     "text": [
      "epoch 62 train loss = 0.690938939549485\n",
      "epoch 62 test loss = 0.9253042802214623\n"
     ]
    },
    {
     "name": "stderr",
     "output_type": "stream",
     "text": [
      "196it [01:03,  3.10it/s]\n",
      "100%|██████████| 40/40 [00:05<00:00,  7.12it/s]\n"
     ]
    },
    {
     "name": "stdout",
     "output_type": "stream",
     "text": [
      "epoch 63 train loss = 0.6937620204930403\n",
      "epoch 63 test loss = 0.8911638781428337\n"
     ]
    },
    {
     "name": "stderr",
     "output_type": "stream",
     "text": [
      "196it [01:03,  3.08it/s]\n",
      "100%|██████████| 40/40 [00:05<00:00,  7.03it/s]\n"
     ]
    },
    {
     "name": "stdout",
     "output_type": "stream",
     "text": [
      "epoch 64 train loss = 0.6880386602513644\n",
      "epoch 64 test loss = 0.9003334805369377\n"
     ]
    },
    {
     "name": "stderr",
     "output_type": "stream",
     "text": [
      "196it [01:03,  3.09it/s]\n",
      "100%|██████████| 40/40 [00:05<00:00,  7.04it/s]\n"
     ]
    },
    {
     "name": "stdout",
     "output_type": "stream",
     "text": [
      "epoch 65 train loss = 0.687090089126509\n",
      "epoch 65 test loss = 0.9048813462257386\n"
     ]
    },
    {
     "name": "stderr",
     "output_type": "stream",
     "text": [
      "196it [01:03,  3.08it/s]\n",
      "100%|██████████| 40/40 [00:05<00:00,  7.05it/s]\n"
     ]
    },
    {
     "name": "stdout",
     "output_type": "stream",
     "text": [
      "epoch 66 train loss = 0.6763350705102998\n",
      "epoch 66 test loss = 0.9266765892505646\n"
     ]
    },
    {
     "name": "stderr",
     "output_type": "stream",
     "text": [
      "196it [01:03,  3.08it/s]\n",
      "100%|██████████| 40/40 [00:05<00:00,  7.06it/s]\n"
     ]
    },
    {
     "name": "stdout",
     "output_type": "stream",
     "text": [
      "epoch 67 train loss = 0.6781919668523633\n",
      "epoch 67 test loss = 0.9042808875441551\n"
     ]
    },
    {
     "name": "stderr",
     "output_type": "stream",
     "text": [
      "196it [01:03,  3.09it/s]\n",
      "100%|██████████| 40/40 [00:05<00:00,  7.07it/s]\n"
     ]
    },
    {
     "name": "stdout",
     "output_type": "stream",
     "text": [
      "epoch 68 train loss = 0.675372949364234\n",
      "epoch 68 test loss = 0.8980997905135155\n"
     ]
    },
    {
     "name": "stderr",
     "output_type": "stream",
     "text": [
      "196it [01:03,  3.08it/s]\n",
      "100%|██████████| 40/40 [00:05<00:00,  7.06it/s]\n"
     ]
    },
    {
     "name": "stdout",
     "output_type": "stream",
     "text": [
      "epoch 69 train loss = 0.6760441773400014\n",
      "epoch 69 test loss = 0.8722835421562195\n"
     ]
    },
    {
     "name": "stderr",
     "output_type": "stream",
     "text": [
      "196it [01:03,  3.09it/s]\n",
      "100%|██████████| 40/40 [00:05<00:00,  7.03it/s]\n"
     ]
    },
    {
     "name": "stdout",
     "output_type": "stream",
     "text": [
      "epoch 70 train loss = 0.6690333233195909\n",
      "epoch 70 test loss = 0.8813617035746575\n"
     ]
    },
    {
     "name": "stderr",
     "output_type": "stream",
     "text": [
      "196it [01:03,  3.10it/s]\n",
      "100%|██████████| 40/40 [00:05<00:00,  7.06it/s]\n"
     ]
    },
    {
     "name": "stdout",
     "output_type": "stream",
     "text": [
      "epoch 71 train loss = 0.6712697814313733\n",
      "epoch 71 test loss = 0.911884044110775\n"
     ]
    },
    {
     "name": "stderr",
     "output_type": "stream",
     "text": [
      "196it [01:03,  3.09it/s]\n",
      "100%|██████████| 40/40 [00:05<00:00,  6.99it/s]\n"
     ]
    },
    {
     "name": "stdout",
     "output_type": "stream",
     "text": [
      "epoch 72 train loss = 0.6683254640321342\n",
      "epoch 72 test loss = 0.8991930082440376\n"
     ]
    },
    {
     "name": "stderr",
     "output_type": "stream",
     "text": [
      "196it [01:03,  3.08it/s]\n",
      "100%|██████████| 40/40 [00:05<00:00,  7.01it/s]\n"
     ]
    },
    {
     "name": "stdout",
     "output_type": "stream",
     "text": [
      "epoch 73 train loss = 0.6685461163216707\n",
      "epoch 73 test loss = 0.908707657456398\n"
     ]
    },
    {
     "name": "stderr",
     "output_type": "stream",
     "text": [
      "191it [01:02,  3.06it/s]\n"
     ]
    },
    {
     "ename": "KeyboardInterrupt",
     "evalue": "",
     "output_type": "error",
     "traceback": [
      "\u001b[0;31m---------------------------------------------------------------------------\u001b[0m",
      "\u001b[0;31mKeyboardInterrupt\u001b[0m                         Traceback (most recent call last)",
      "Cell \u001b[0;32mIn [180], line 21\u001b[0m\n\u001b[1;32m     18\u001b[0m     optimizer\u001b[39m.\u001b[39mstep()\n\u001b[1;32m     20\u001b[0m     \u001b[39m# print statistics\u001b[39;00m\n\u001b[0;32m---> 21\u001b[0m     _train_lossses\u001b[39m.\u001b[39mappend(loss\u001b[39m.\u001b[39;49mitem())\n\u001b[1;32m     23\u001b[0m \u001b[39mwith\u001b[39;00m torch\u001b[39m.\u001b[39mno_grad():\n\u001b[1;32m     24\u001b[0m     _test_losses\u001b[39m=\u001b[39m[]\n",
      "\u001b[0;31mKeyboardInterrupt\u001b[0m: "
     ]
    }
   ],
   "source": [
    "from tqdm import tqdm\n",
    "losses_train = []\n",
    "losses_test = []\n",
    "for epoch in range(100):  # loop over the dataset multiple times\n",
    "    _train_lossses=[]\n",
    "    for i, data in tqdm(enumerate(trainloader, 0)):\n",
    "        # get the inputs; data is a list of [inputs, labels]\n",
    "        inputs, labels = data\n",
    "        inputs = inputs.to(\"cuda\")\n",
    "        labels = labels.to(\"cuda\")\n",
    "        # zero the parameter gradients\n",
    "        optimizer.zero_grad()\n",
    "\n",
    "        # forward + backward + optimize\n",
    "        outputs = model(inputs)\n",
    "        loss = criterion(outputs, labels)\n",
    "        loss.backward()\n",
    "        optimizer.step()\n",
    "\n",
    "        # print statistics\n",
    "        _train_lossses.append(loss.item())\n",
    "\n",
    "    with torch.no_grad():\n",
    "        _test_losses=[]\n",
    "        for data in tqdm(testloader):\n",
    "            images, labels = data\n",
    "            images = images.to(\"cuda\")\n",
    "            labels = labels.to(\"cuda\")\n",
    "            # calculate outputs by running images through the network\n",
    "            outputs = model(images)\n",
    "            test_loss = criterion(outputs,labels)\n",
    "            _test_losses.append(test_loss.item())\n",
    "        losses_test.append(mean(_test_losses))\n",
    "            \n",
    "        # if i % 196 == 195:    # print every 2000 mini-batches\n",
    "        #     print(f'[{epoch + 1}, {i + 1:5d}] loss: {running_loss / 2000:.3f}')\n",
    "        #     running_loss = 0.0\n",
    "    losses_train.append(mean(_train_lossses))\n",
    "    print(f\"epoch {epoch} train loss = {losses_train[-1]}\")\n",
    "    print(f\"epoch {epoch} test loss = {losses_test[-1]}\")\n",
    "    # correct = 0\n",
    "    # total = 0\n",
    "    # with torch.no_grad():\n",
    "    #     for data in tqdm(testloader):\n",
    "    #         images, labels = data\n",
    "    #         images = images.to(\"cuda\")\n",
    "    #         labels = labels.to(\"cuda\")\n",
    "    #         # calculate outputs by running images through the network\n",
    "    #         outputs = model(images)\n",
    "    #         # the class with the highest energy is what we choose as prediction\n",
    "    #         _, predicted = torch.max(outputs.data, 1)\n",
    "    #         total += labels.size(0)\n",
    "    #         correct += (predicted == labels).sum().item()\n",
    "    # print(f'Accuracy of the network on the 10000 test images: {100 * correct // total} %')\n",
    "\n",
    "print('Finished Training')"
   ]
  },
  {
   "cell_type": "code",
   "execution_count": 181,
   "metadata": {},
   "outputs": [
    {
     "data": {
      "text/plain": [
       "[<matplotlib.lines.Line2D at 0x7f377cd42a00>]"
      ]
     },
     "execution_count": 181,
     "metadata": {},
     "output_type": "execute_result"
    },
    {
     "data": {
      "image/png": "[encoded data removed]",
      "text/plain": [
       "<Figure size 640x480 with 1 Axes>"
      ]
     },
     "metadata": {},
     "output_type": "display_data"
    }
   ],
   "source": [
    "import matplotlib.pyplot as plt\n",
    "plt.plot(losses_train)\n",
    "plt.plot(losses_test)"
   ]
  },
  {
   "cell_type": "code",
   "execution_count": 182,
   "metadata": {},
   "outputs": [
    {
     "name": "stderr",
     "output_type": "stream",
     "text": [
      "100%|██████████| 40/40 [00:05<00:00,  7.03it/s]"
     ]
    },
    {
     "name": "stdout",
     "output_type": "stream",
     "text": [
      "Accuracy of the network on the 10000 test images: 69 %\n"
     ]
    },
    {
     "name": "stderr",
     "output_type": "stream",
     "text": [
      "\n"
     ]
    }
   ],
   "source": [
    "correct = 0\n",
    "total = 0\n",
    "# since we're not training, we don't need to calculate the gradients for our outputs\n",
    "with torch.no_grad():\n",
    "    for data in tqdm(testloader):\n",
    "        images, labels = data\n",
    "        images = images.to(\"cuda\")\n",
    "        labels = labels.to(\"cuda\")\n",
    "        # calculate outputs by running images through the network\n",
    "        outputs = model(images)\n",
    "        # the class with the highest energy is what we choose as prediction\n",
    "        _, predicted = torch.max(outputs.data, 1)\n",
    "        total += labels.size(0)\n",
    "        correct += (predicted == labels).sum().item()\n",
    "\n",
    "print(f'Accuracy of the network on the 10000 test images: {100 * correct // total} %')"
   ]
  }
 ],
 "metadata": {
  "kernelspec": {
   "display_name": "Python 3",
   "language": "python",
   "name": "python3"
  },
  "language_info": {
   "codemirror_mode": {
    "name": "ipython",
    "version": 3
   },
   "file_extension": ".py",
   "mimetype": "text/x-python",
   "name": "python",
   "nbconvert_exporter": "python",
   "pygments_lexer": "ipython3",
   "version": "3.9.2"
  },
  "orig_nbformat": 4,
  "vscode": {
   "interpreter": {
    "hash": "916dbcbb3f70747c44a77c7bcd40155683ae19c65e1c03b4aa3499c5328201f1"
   }
  }
 },
 "nbformat": 4,
 "nbformat_minor": 2
}
