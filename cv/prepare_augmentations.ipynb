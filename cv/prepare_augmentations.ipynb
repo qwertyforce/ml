{
 "cells": [
  {
   "cell_type": "code",
   "execution_count": null,
   "metadata": {},
   "outputs": [],
   "source": [
    "import os\n",
    "import albumentations as A\n",
    "import numpy as np\n",
    "from tqdm import tqdm\n",
    "from PIL import Image\n",
    "\n",
    "all_transforms = [\n",
    "  A.Compose([\n",
    "    A.augmentations.geometric.rotate.SafeRotate(limit=30,value=[0,0,0], border_mode=0, p=0.10),\n",
    "    A.core.composition.OneOf([A.Lambda(p=1), A.VerticalFlip(p=1), A.HorizontalFlip(p=1),A.RandomRotate90(p=1)],p=1),\n",
    "    A.core.composition.OneOf([A.Lambda(p=1), A.augmentations.ToGray(p=1), A.augmentations.RGBShift(p=1),\n",
    "    A.augmentations.ChannelShuffle(p=1),A.augmentations.ColorJitter(p=1),A.InvertImg(p=1)],p=1),\n",
    "    A.core.composition.OneOf([A.Lambda(p=1),A.augmentations.MotionBlur(p=1), A.augmentations.AdvancedBlur(p=1), A.augmentations.GaussianBlur(p=1)],p=1),\n",
    "    A.ImageCompression(p=0.20, quality_lower=40),\n",
    "])\n",
    "]\n",
    "paths= [\"./train/no_watermark/\",\"./train/watermark/\"]\n",
    "\n",
    "for p in paths:\n",
    "    for file_name in tqdm(os.listdir(p)):\n",
    "        img = Image.open(p+file_name)\n",
    "        if img.mode != 'RGB':\n",
    "           img = img.convert('RGB')\n",
    "        # img=img.resize((512,512),Image.Resampling(np.random.randint(6)))    #[0,5)\n",
    "        img = np.array(img)\n",
    "        \n",
    "        for i in range(1):  #number of augmentations per 1 image\n",
    "            new_img = all_transforms[0](image=img)[\"image\"]\n",
    "        # print(new_img.shape)\n",
    "        new_img =  Image.fromarray(new_img,\"RGB\")\n",
    "\n",
    "        new_file_name = f'{file_name[:file_name.index(\".\")]}_aug_{str(i)}_{file_name[file_name.index(\".\"):]}'\n",
    "        new_img.save(p+new_file_name,quality=90)"
   ]
  }
 ],
 "metadata": {
  "language_info": {
   "name": "python"
  },
  "orig_nbformat": 4
 },
 "nbformat": 4,
 "nbformat_minor": 2
}
