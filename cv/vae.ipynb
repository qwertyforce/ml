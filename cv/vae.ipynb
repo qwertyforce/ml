{
  "nbformat": 4,
  "nbformat_minor": 0,
  "metadata": {
    "colab": {
      "provenance": [],
      "gpuType": "T4"
    },
    "kernelspec": {
      "name": "python3",
      "display_name": "Python 3"
    },
    "language_info": {
      "name": "python"
    },
    "accelerator": "GPU"
  },
  "cells": [
    {
      "cell_type": "markdown",
      "source": [
        "https://colab.research.google.com/github/MicPie/DepthFirstLearning/blob/master/InfoGAN/DCGAN_MNIST_v5.ipynb#scrollTo=LoHjTjxcESKZ\n",
        "https://colab.research.google.com/github/pytorch/tutorials/blob/gh-pages/_downloads/5f81194dd43910d586578638f83205a3/dcgan_faces_tutorial.ipynb#scrollTo=JBS91Rh4CSMy"
      ],
      "metadata": {
        "id": "aGYkSbJP6pdC"
      }
    },
    {
      "cell_type": "code",
      "execution_count": 1,
      "metadata": {
        "id": "xoW11S3IN6gM"
      },
      "outputs": [],
      "source": [
        "import torch\n",
        "import torchvision"
      ]
    },
    {
      "cell_type": "code",
      "source": [
        "dataset_train = torchvision.datasets.MNIST(root=\"./\", train=True, transform=torchvision.transforms.ToTensor(), download=True)\n",
        "dataset_test = torchvision.datasets.MNIST(root=\"./\", train=False, transform=torchvision.transforms.ToTensor(), download=True)"
      ],
      "metadata": {
        "id": "Q9Qwm0ZChH2U"
      },
      "execution_count": null,
      "outputs": []
    },
    {
      "cell_type": "code",
      "source": [
        "from torch.utils.data import DataLoader\n",
        "train_dataloader = DataLoader(dataset_train, batch_size=256, shuffle=True)\n",
        "test_dataloader = DataLoader(dataset_test, batch_size=256, shuffle=False)"
      ],
      "metadata": {
        "id": "0flJD-oaOANG"
      },
      "execution_count": 3,
      "outputs": []
    },
    {
      "cell_type": "code",
      "source": [
        "import torch.nn as nn\n",
        "import torch.nn.functional as F\n",
        "import torch.optim as optim\n",
        "\n",
        "class VAE(nn.Module): # https://github.com/lyeoni/pytorch-mnist-VAE\n",
        "    def __init__(self):\n",
        "        super(VAE, self).__init__()\n",
        "\n",
        "        # prob. encoder\n",
        "        self.fc1 = nn.Linear(784, 512)\n",
        "        self.fc2 = nn.Linear(512, 256)\n",
        "        self.fc_mu = nn.Linear(256, 128)\n",
        "        self.fc_log_var = nn.Linear(256, 128)\n",
        "\n",
        "        # prob.decoder\n",
        "        self.fc4 = nn.Linear(128, 256)\n",
        "        self.fc5 = nn.Linear(256, 512)\n",
        "        self.fc6 = nn.Linear(512, 784)\n",
        "\n",
        "    def encoder(self, x):\n",
        "        h = F.relu(self.fc1(x))\n",
        "        h = F.relu(self.fc2(h))\n",
        "        return self.fc_mu(h), self.fc_log_var(h) # mu, log_var\n",
        "\n",
        "    def sampling(self, mu, log_var):\n",
        "        std = torch.exp(0.5*log_var)\n",
        "        eps = torch.randn_like(std)\n",
        "        return eps.mul(std).add_(mu) # return z sample\n",
        "\n",
        "    def decoder(self, z):\n",
        "        h = F.relu(self.fc4(z))\n",
        "        h = F.relu(self.fc5(h))\n",
        "        return F.sigmoid(self.fc6(h))\n",
        "\n",
        "    def forward(self, x):\n",
        "        mu, log_var = self.encoder(x.view(-1, 784))\n",
        "        z = self.sampling(mu, log_var)\n",
        "        return self.decoder(z), mu, log_var"
      ],
      "metadata": {
        "id": "Lubb2onwR2y0"
      },
      "execution_count": 4,
      "outputs": []
    },
    {
      "cell_type": "code",
      "source": [
        "device = \"cuda\"\n",
        "vae = VAE().to(device)\n",
        "optimizer = optim.Adam(vae.parameters(),lr=0.001)\n",
        "# return reconstruction error + KL divergence losses\n",
        "def loss_function(recon_x, x, mu, log_var):\n",
        "    BCE = F.binary_cross_entropy(recon_x, x.view(-1, 784), reduction='sum')\n",
        "    KLD = -0.5 * torch.sum(1 + log_var - mu.pow(2) - log_var.exp())\n",
        "    return BCE + KLD"
      ],
      "metadata": {
        "id": "8qjpOoq8R5t2"
      },
      "execution_count": 11,
      "outputs": []
    },
    {
      "cell_type": "code",
      "source": [
        "from statistics import mean\n",
        "from tqdm import tqdm\n",
        "# Training Loop\n",
        "train_losses = []\n",
        "test_losses = []\n",
        "num_epochs = 20\n",
        "print(\"Starting Training Loop...\")\n",
        "def test():\n",
        "    temp_losses=[]\n",
        "    with torch.no_grad():\n",
        "        for i, data in tqdm(enumerate(test_dataloader, 0)):\n",
        "            real_images = data[0].reshape(-1,784).to(device)\n",
        "            recon_x, mu, logvar = vae.forward(real_images)\n",
        "            loss = loss_function(recon_x, real_images, mu, logvar)\n",
        "            temp_losses.append(loss.item())\n",
        "    return mean(temp_losses)\n",
        "\n",
        "\n",
        "for epoch in range(num_epochs):\n",
        "    # For each batch in the dataloader\n",
        "    temp_losses = []\n",
        "    for i, data in enumerate(train_dataloader, 0):\n",
        "        vae.zero_grad()\n",
        "        real_images = data[0].reshape(-1,784).to(device)\n",
        "        recon_x, mu, logvar = vae.forward(real_images)\n",
        "        loss = loss_function(recon_x, real_images, mu, logvar)\n",
        "        loss.backward()\n",
        "        optimizer.step()\n",
        "        temp_losses.append(loss.item())\n",
        "        # Output training stats\n",
        "        if i % 50 == 0:\n",
        "            print('[%d/%d][%d/%d]\\tLoss: %.4f'\n",
        "                  % (epoch, num_epochs, i, len(train_dataloader),\n",
        "                     loss.item()))\n",
        "\n",
        "        if i % 200==0:\n",
        "            train_losses.append(mean(temp_losses))\n",
        "            test_losses.append(test())\n"
      ],
      "metadata": {
        "colab": {
          "base_uri": "https://localhost:8080/"
        },
        "id": "pMw2YDlbOHaX",
        "outputId": "8fd0a9e4-c350-46b3-9bf5-0a8b48d9bdec"
      },
      "execution_count": 12,
      "outputs": [
        {
          "output_type": "stream",
          "name": "stdout",
          "text": [
            "Starting Training Loop...\n",
            "[0/20][0/235]\tLoss: 139383.3438\n"
          ]
        },
        {
          "output_type": "stream",
          "name": "stderr",
          "text": [
            "40it [00:01, 28.33it/s]\n"
          ]
        },
        {
          "output_type": "stream",
          "name": "stdout",
          "text": [
            "[0/20][50/235]\tLoss: 51775.6953\n",
            "[0/20][100/235]\tLoss: 51338.4688\n",
            "[0/20][150/235]\tLoss: 48045.1992\n",
            "[0/20][200/235]\tLoss: 47542.6641\n"
          ]
        },
        {
          "output_type": "stream",
          "name": "stderr",
          "text": [
            "40it [00:01, 31.12it/s]\n"
          ]
        },
        {
          "output_type": "stream",
          "name": "stdout",
          "text": [
            "[1/20][0/235]\tLoss: 45342.3633\n"
          ]
        },
        {
          "output_type": "stream",
          "name": "stderr",
          "text": [
            "40it [00:01, 31.12it/s]\n"
          ]
        },
        {
          "output_type": "stream",
          "name": "stdout",
          "text": [
            "[1/20][50/235]\tLoss: 41577.6562\n",
            "[1/20][100/235]\tLoss: 41078.9297\n",
            "[1/20][150/235]\tLoss: 39252.8516\n",
            "[1/20][200/235]\tLoss: 38254.5938\n"
          ]
        },
        {
          "output_type": "stream",
          "name": "stderr",
          "text": [
            "40it [00:01, 31.34it/s]\n"
          ]
        },
        {
          "output_type": "stream",
          "name": "stdout",
          "text": [
            "[2/20][0/235]\tLoss: 37640.1250\n"
          ]
        },
        {
          "output_type": "stream",
          "name": "stderr",
          "text": [
            "40it [00:01, 30.33it/s]\n"
          ]
        },
        {
          "output_type": "stream",
          "name": "stdout",
          "text": [
            "[2/20][50/235]\tLoss: 36830.3984\n",
            "[2/20][100/235]\tLoss: 34855.4180\n",
            "[2/20][150/235]\tLoss: 34219.5391\n",
            "[2/20][200/235]\tLoss: 33387.2109\n"
          ]
        },
        {
          "output_type": "stream",
          "name": "stderr",
          "text": [
            "40it [00:01, 30.20it/s]\n"
          ]
        },
        {
          "output_type": "stream",
          "name": "stdout",
          "text": [
            "[3/20][0/235]\tLoss: 32818.6055\n"
          ]
        },
        {
          "output_type": "stream",
          "name": "stderr",
          "text": [
            "40it [00:01, 31.52it/s]\n"
          ]
        },
        {
          "output_type": "stream",
          "name": "stdout",
          "text": [
            "[3/20][50/235]\tLoss: 31845.1582\n",
            "[3/20][100/235]\tLoss: 31670.1992\n",
            "[3/20][150/235]\tLoss: 31550.7812\n",
            "[3/20][200/235]\tLoss: 32521.7930\n"
          ]
        },
        {
          "output_type": "stream",
          "name": "stderr",
          "text": [
            "40it [00:01, 31.38it/s]\n"
          ]
        },
        {
          "output_type": "stream",
          "name": "stdout",
          "text": [
            "[4/20][0/235]\tLoss: 31269.7070\n"
          ]
        },
        {
          "output_type": "stream",
          "name": "stderr",
          "text": [
            "40it [00:01, 29.91it/s]\n"
          ]
        },
        {
          "output_type": "stream",
          "name": "stdout",
          "text": [
            "[4/20][50/235]\tLoss: 29890.5723\n",
            "[4/20][100/235]\tLoss: 30796.6602\n",
            "[4/20][150/235]\tLoss: 30617.3613\n",
            "[4/20][200/235]\tLoss: 30156.3242\n"
          ]
        },
        {
          "output_type": "stream",
          "name": "stderr",
          "text": [
            "40it [00:01, 30.08it/s]\n"
          ]
        },
        {
          "output_type": "stream",
          "name": "stdout",
          "text": [
            "[5/20][0/235]\tLoss: 30314.2949\n"
          ]
        },
        {
          "output_type": "stream",
          "name": "stderr",
          "text": [
            "40it [00:01, 31.40it/s]\n"
          ]
        },
        {
          "output_type": "stream",
          "name": "stdout",
          "text": [
            "[5/20][50/235]\tLoss: 29895.7344\n",
            "[5/20][100/235]\tLoss: 29724.3438\n",
            "[5/20][150/235]\tLoss: 30442.3652\n",
            "[5/20][200/235]\tLoss: 30783.0938\n"
          ]
        },
        {
          "output_type": "stream",
          "name": "stderr",
          "text": [
            "40it [00:01, 31.69it/s]\n"
          ]
        },
        {
          "output_type": "stream",
          "name": "stdout",
          "text": [
            "[6/20][0/235]\tLoss: 29330.5840\n"
          ]
        },
        {
          "output_type": "stream",
          "name": "stderr",
          "text": [
            "40it [00:01, 31.71it/s]\n"
          ]
        },
        {
          "output_type": "stream",
          "name": "stdout",
          "text": [
            "[6/20][50/235]\tLoss: 28454.3066\n",
            "[6/20][100/235]\tLoss: 29700.8047\n",
            "[6/20][150/235]\tLoss: 28661.7949\n",
            "[6/20][200/235]\tLoss: 28820.1875\n"
          ]
        },
        {
          "output_type": "stream",
          "name": "stderr",
          "text": [
            "40it [00:01, 31.65it/s]\n"
          ]
        },
        {
          "output_type": "stream",
          "name": "stdout",
          "text": [
            "[7/20][0/235]\tLoss: 29319.1875\n"
          ]
        },
        {
          "output_type": "stream",
          "name": "stderr",
          "text": [
            "40it [00:01, 31.74it/s]\n"
          ]
        },
        {
          "output_type": "stream",
          "name": "stdout",
          "text": [
            "[7/20][50/235]\tLoss: 29402.0664\n",
            "[7/20][100/235]\tLoss: 27774.2285\n",
            "[7/20][150/235]\tLoss: 28613.6953\n",
            "[7/20][200/235]\tLoss: 29263.0625\n"
          ]
        },
        {
          "output_type": "stream",
          "name": "stderr",
          "text": [
            "40it [00:01, 29.56it/s]\n"
          ]
        },
        {
          "output_type": "stream",
          "name": "stdout",
          "text": [
            "[8/20][0/235]\tLoss: 28524.9355\n"
          ]
        },
        {
          "output_type": "stream",
          "name": "stderr",
          "text": [
            "40it [00:01, 28.79it/s]\n"
          ]
        },
        {
          "output_type": "stream",
          "name": "stdout",
          "text": [
            "[8/20][50/235]\tLoss: 28136.9375\n",
            "[8/20][100/235]\tLoss: 28496.6953\n",
            "[8/20][150/235]\tLoss: 28107.0957\n",
            "[8/20][200/235]\tLoss: 28146.0664\n"
          ]
        },
        {
          "output_type": "stream",
          "name": "stderr",
          "text": [
            "40it [00:01, 24.11it/s]\n"
          ]
        },
        {
          "output_type": "stream",
          "name": "stdout",
          "text": [
            "[9/20][0/235]\tLoss: 27821.7402\n"
          ]
        },
        {
          "output_type": "stream",
          "name": "stderr",
          "text": [
            "40it [00:01, 31.19it/s]\n"
          ]
        },
        {
          "output_type": "stream",
          "name": "stdout",
          "text": [
            "[9/20][50/235]\tLoss: 28584.8164\n",
            "[9/20][100/235]\tLoss: 28088.0742\n",
            "[9/20][150/235]\tLoss: 28043.0977\n",
            "[9/20][200/235]\tLoss: 28655.6836\n"
          ]
        },
        {
          "output_type": "stream",
          "name": "stderr",
          "text": [
            "40it [00:01, 22.82it/s]\n"
          ]
        },
        {
          "output_type": "stream",
          "name": "stdout",
          "text": [
            "[10/20][0/235]\tLoss: 27888.6328\n"
          ]
        },
        {
          "output_type": "stream",
          "name": "stderr",
          "text": [
            "40it [00:01, 30.80it/s]\n"
          ]
        },
        {
          "output_type": "stream",
          "name": "stdout",
          "text": [
            "[10/20][50/235]\tLoss: 26806.9277\n",
            "[10/20][100/235]\tLoss: 27260.7070\n",
            "[10/20][150/235]\tLoss: 27454.4336\n",
            "[10/20][200/235]\tLoss: 27531.2910\n"
          ]
        },
        {
          "output_type": "stream",
          "name": "stderr",
          "text": [
            "40it [00:01, 26.30it/s]\n"
          ]
        },
        {
          "output_type": "stream",
          "name": "stdout",
          "text": [
            "[11/20][0/235]\tLoss: 28045.9258\n"
          ]
        },
        {
          "output_type": "stream",
          "name": "stderr",
          "text": [
            "40it [00:01, 31.16it/s]\n"
          ]
        },
        {
          "output_type": "stream",
          "name": "stdout",
          "text": [
            "[11/20][50/235]\tLoss: 27854.7891\n",
            "[11/20][100/235]\tLoss: 27416.0723\n",
            "[11/20][150/235]\tLoss: 26989.7637\n",
            "[11/20][200/235]\tLoss: 27179.0664\n"
          ]
        },
        {
          "output_type": "stream",
          "name": "stderr",
          "text": [
            "40it [00:01, 31.08it/s]\n"
          ]
        },
        {
          "output_type": "stream",
          "name": "stdout",
          "text": [
            "[12/20][0/235]\tLoss: 26602.1836\n"
          ]
        },
        {
          "output_type": "stream",
          "name": "stderr",
          "text": [
            "40it [00:01, 24.21it/s]\n"
          ]
        },
        {
          "output_type": "stream",
          "name": "stdout",
          "text": [
            "[12/20][50/235]\tLoss: 26799.3203\n",
            "[12/20][100/235]\tLoss: 27296.8965\n",
            "[12/20][150/235]\tLoss: 28078.2812\n",
            "[12/20][200/235]\tLoss: 26666.2324\n"
          ]
        },
        {
          "output_type": "stream",
          "name": "stderr",
          "text": [
            "40it [00:01, 31.39it/s]\n"
          ]
        },
        {
          "output_type": "stream",
          "name": "stdout",
          "text": [
            "[13/20][0/235]\tLoss: 27969.6211\n"
          ]
        },
        {
          "output_type": "stream",
          "name": "stderr",
          "text": [
            "40it [00:01, 22.64it/s]\n"
          ]
        },
        {
          "output_type": "stream",
          "name": "stdout",
          "text": [
            "[13/20][50/235]\tLoss: 27199.8750\n",
            "[13/20][100/235]\tLoss: 26017.3496\n",
            "[13/20][150/235]\tLoss: 27079.5352\n",
            "[13/20][200/235]\tLoss: 26746.1680\n"
          ]
        },
        {
          "output_type": "stream",
          "name": "stderr",
          "text": [
            "40it [00:01, 31.85it/s]\n"
          ]
        },
        {
          "output_type": "stream",
          "name": "stdout",
          "text": [
            "[14/20][0/235]\tLoss: 26805.5859\n"
          ]
        },
        {
          "output_type": "stream",
          "name": "stderr",
          "text": [
            "40it [00:01, 27.74it/s]\n"
          ]
        },
        {
          "output_type": "stream",
          "name": "stdout",
          "text": [
            "[14/20][50/235]\tLoss: 27492.9648\n",
            "[14/20][100/235]\tLoss: 26434.8340\n",
            "[14/20][150/235]\tLoss: 26349.2891\n",
            "[14/20][200/235]\tLoss: 26852.4863\n"
          ]
        },
        {
          "output_type": "stream",
          "name": "stderr",
          "text": [
            "40it [00:01, 31.70it/s]\n"
          ]
        },
        {
          "output_type": "stream",
          "name": "stdout",
          "text": [
            "[15/20][0/235]\tLoss: 26386.2266\n"
          ]
        },
        {
          "output_type": "stream",
          "name": "stderr",
          "text": [
            "40it [00:01, 30.82it/s]\n"
          ]
        },
        {
          "output_type": "stream",
          "name": "stdout",
          "text": [
            "[15/20][50/235]\tLoss: 26094.7422\n",
            "[15/20][100/235]\tLoss: 25760.3105\n",
            "[15/20][150/235]\tLoss: 25785.1895\n",
            "[15/20][200/235]\tLoss: 27025.8164\n"
          ]
        },
        {
          "output_type": "stream",
          "name": "stderr",
          "text": [
            "40it [00:01, 30.60it/s]\n"
          ]
        },
        {
          "output_type": "stream",
          "name": "stdout",
          "text": [
            "[16/20][0/235]\tLoss: 25488.5273\n"
          ]
        },
        {
          "output_type": "stream",
          "name": "stderr",
          "text": [
            "40it [00:01, 27.96it/s]\n"
          ]
        },
        {
          "output_type": "stream",
          "name": "stdout",
          "text": [
            "[16/20][50/235]\tLoss: 26080.5762\n",
            "[16/20][100/235]\tLoss: 26645.5605\n",
            "[16/20][150/235]\tLoss: 26290.3125\n",
            "[16/20][200/235]\tLoss: 26478.2188\n"
          ]
        },
        {
          "output_type": "stream",
          "name": "stderr",
          "text": [
            "40it [00:01, 31.19it/s]\n"
          ]
        },
        {
          "output_type": "stream",
          "name": "stdout",
          "text": [
            "[17/20][0/235]\tLoss: 26617.5664\n"
          ]
        },
        {
          "output_type": "stream",
          "name": "stderr",
          "text": [
            "40it [00:01, 32.24it/s]\n"
          ]
        },
        {
          "output_type": "stream",
          "name": "stdout",
          "text": [
            "[17/20][50/235]\tLoss: 26143.8125\n",
            "[17/20][100/235]\tLoss: 26163.9805\n",
            "[17/20][150/235]\tLoss: 26563.7539\n",
            "[17/20][200/235]\tLoss: 27312.5039\n"
          ]
        },
        {
          "output_type": "stream",
          "name": "stderr",
          "text": [
            "40it [00:01, 31.56it/s]\n"
          ]
        },
        {
          "output_type": "stream",
          "name": "stdout",
          "text": [
            "[18/20][0/235]\tLoss: 26394.5312\n"
          ]
        },
        {
          "output_type": "stream",
          "name": "stderr",
          "text": [
            "40it [00:01, 30.96it/s]\n"
          ]
        },
        {
          "output_type": "stream",
          "name": "stdout",
          "text": [
            "[18/20][50/235]\tLoss: 27168.4414\n",
            "[18/20][100/235]\tLoss: 26431.2305\n",
            "[18/20][150/235]\tLoss: 26236.7539\n",
            "[18/20][200/235]\tLoss: 26538.1953\n"
          ]
        },
        {
          "output_type": "stream",
          "name": "stderr",
          "text": [
            "40it [00:01, 30.67it/s]\n"
          ]
        },
        {
          "output_type": "stream",
          "name": "stdout",
          "text": [
            "[19/20][0/235]\tLoss: 26259.6289\n"
          ]
        },
        {
          "output_type": "stream",
          "name": "stderr",
          "text": [
            "40it [00:01, 29.12it/s]\n"
          ]
        },
        {
          "output_type": "stream",
          "name": "stdout",
          "text": [
            "[19/20][50/235]\tLoss: 26550.0273\n",
            "[19/20][100/235]\tLoss: 26974.0742\n",
            "[19/20][150/235]\tLoss: 26425.6152\n",
            "[19/20][200/235]\tLoss: 25801.4453\n"
          ]
        },
        {
          "output_type": "stream",
          "name": "stderr",
          "text": [
            "40it [00:01, 31.24it/s]\n"
          ]
        }
      ]
    },
    {
      "cell_type": "code",
      "source": [
        "import torchvision\n",
        "fixed_noise = torch.randn(64, 128, device=device)\n",
        "with torch.no_grad():\n",
        "    img = vae.decoder(fixed_noise).reshape(64,1,28,28)\n",
        "    grid = torchvision.utils.make_grid(img)\n"
      ],
      "metadata": {
        "id": "4PP0RZo8Xb1Z"
      },
      "execution_count": 16,
      "outputs": []
    },
    {
      "cell_type": "code",
      "source": [
        "import matplotlib.pyplot as plt\n",
        "plt.imshow(grid.cpu().numpy().transpose((1, 2, 0)))"
      ],
      "metadata": {
        "colab": {
          "base_uri": "https://localhost:8080/",
          "height": 452
        },
        "id": "xErZWIsjYQel",
        "outputId": "f73a6c7d-5128-4706-fbae-c9a558b01001"
      },
      "execution_count": 17,
      "outputs": [
        {
          "output_type": "execute_result",
          "data": {
            "text/plain": [
              "<matplotlib.image.AxesImage at 0x7fa04a822740>"
            ]
          },
          "metadata": {},
          "execution_count": 17
        },
        {
          "output_type": "display_data",
          "data": {
            "text/plain": [
              "<Figure size 640x480 with 1 Axes>"
            ],
            "image/png": "[encoded data removed]"
          },
          "metadata": {}
        }
      ]
    },
    {
      "cell_type": "code",
      "source": [
        "import matplotlib.pyplot as plt\n",
        "plt.plot(train_losses)\n",
        "plt.plot(test_losses)\n",
        "plt.show()"
      ],
      "metadata": {
        "colab": {
          "base_uri": "https://localhost:8080/",
          "height": 430
        },
        "id": "CcbWmJRpM24Z",
        "outputId": "46cc42c1-76a6-4077-e54c-d179d8dfbe67"
      },
      "execution_count": 13,
      "outputs": [
        {
          "output_type": "display_data",
          "data": {
            "text/plain": [
              "<Figure size 640x480 with 1 Axes>"
            ],
            "image/png": "[encoded data removed]"
          },
          "metadata": {}
        }
      ]
    }
  ]
}