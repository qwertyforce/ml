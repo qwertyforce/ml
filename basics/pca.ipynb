{
 "cells": [
  {
   "cell_type": "code",
   "execution_count": null,
   "metadata": {},
   "outputs": [],
   "source": [
    "#https://stats.stackexchange.com/questions/134282/relationship-between-svd-and-pca-how-to-use-svd-to-perform-pca\n",
    "#https://stackoverflow.com/questions/60508233/python-implement-a-pca-using-svd"
   ]
  },
  {
   "cell_type": "code",
   "execution_count": 8,
   "metadata": {},
   "outputs": [],
   "source": [
    "import numpy as np\n",
    "from sklearn.decomposition import PCA\n",
    "\n",
    "n, p = 10, 5\n",
    "X = np.random.rand(n, p)"
   ]
  },
  {
   "cell_type": "code",
   "execution_count": 17,
   "metadata": {},
   "outputs": [
    {
     "data": {
      "text/plain": [
       "array([[-0.03704442, -0.46279545,  0.05858614],\n",
       "       [-0.43131416,  0.46907701, -0.0213612 ],\n",
       "       [-0.1798541 ,  0.27704248,  0.39242182],\n",
       "       [-0.54734843, -0.06195953, -0.22679276],\n",
       "       [ 0.01368038, -0.39559001, -0.10240814],\n",
       "       [-0.31569235, -0.22317742,  0.13213957],\n",
       "       [ 0.26879694,  0.33700923, -0.26011648],\n",
       "       [ 0.56849377,  0.1939513 ,  0.06333797],\n",
       "       [ 0.21897836,  0.02636622, -0.14496916],\n",
       "       [ 0.441304  , -0.15992382,  0.10916224]])"
      ]
     },
     "execution_count": 17,
     "metadata": {},
     "output_type": "execute_result"
    }
   ],
   "source": [
    "PCA(3).fit_transform(X)"
   ]
  },
  {
   "cell_type": "code",
   "execution_count": 19,
   "metadata": {},
   "outputs": [],
   "source": [
    "X -= np.mean(X, axis=0)\n"
   ]
  },
  {
   "cell_type": "code",
   "execution_count": 20,
   "metadata": {},
   "outputs": [
    {
     "name": "stdout",
     "output_type": "stream",
     "text": [
      "C = \n",
      " [[ 0.03738971  0.01426546 -0.02636341 -0.02936637 -0.03230849]\n",
      " [ 0.01426546  0.06456258 -0.00015999  0.03451973 -0.0191789 ]\n",
      " [-0.02636341 -0.00015999  0.04928801  0.03443106  0.01875109]\n",
      " [-0.02936637  0.03451973  0.03443106  0.06978757  0.01944976]\n",
      " [-0.03230849 -0.0191789   0.01875109  0.01944976  0.07593203]]\n",
      "l = \n",
      " [0.13970317 0.09984079 0.03798572 0.01579778 0.00363244]\n",
      "V = \n",
      " [[ 0.43883028  0.17827377 -0.19813109 -0.50866331 -0.69112383]\n",
      " [-0.04823955  0.7521665  -0.39759968 -0.24869917  0.46041472]\n",
      " [-0.45431677  0.04075568  0.59273308 -0.66258613  0.03977886]\n",
      " [-0.57569315  0.44504757  0.01761617  0.40463489 -0.55359763]\n",
      " [-0.51698608 -0.45026177 -0.67157704 -0.27687646 -0.04809821]]\n",
      "Y = \n",
      " [[ 0.03704442  0.46279545  0.05858614  0.02819352 -0.07027853]\n",
      " [ 0.43131416 -0.46907701 -0.0213612  -0.01085747  0.02747701]\n",
      " [ 0.1798541  -0.27704248  0.39242182 -0.10706633 -0.0588637 ]\n",
      " [ 0.54734843  0.06195953 -0.22679276 -0.02836164  0.03281464]\n",
      " [-0.01368038  0.39559001 -0.10240814 -0.040293   -0.04703165]\n",
      " [ 0.31569235  0.22317742  0.13213957  0.20586867  0.05459971]\n",
      " [-0.26879694 -0.33700923 -0.26011648  0.08720173 -0.02937668]\n",
      " [-0.56849377 -0.1939513   0.06333797  0.16943112 -0.01539968]\n",
      " [-0.21897836 -0.02636622 -0.14496916 -0.18698507 -0.01956079]\n",
      " [-0.441304    0.15992382  0.10916224 -0.11713152  0.12561966]]\n"
     ]
    }
   ],
   "source": [
    "# the p x p covariance matrix\n",
    "C = np.cov(X, rowvar=False)\n",
    "print(\"C = \\n\", C)\n",
    "# C is a symmetric matrix and so it can be diagonalized:\n",
    "l, principal_axes = np.linalg.eig(C)  #eigenvalues, eigenvectors\n",
    "# sort results wrt. eigenvalues\n",
    "idx = l.argsort()[::-1]\n",
    "l, principal_axes = l[idx], principal_axes[:, idx]\n",
    "# the eigenvalues in decreasing order\n",
    "print(\"l = \\n\", l)\n",
    "# a matrix of eigenvectors (each column is an eigenvector)\n",
    "print(\"V = \\n\", principal_axes)\n",
    "# projections of X on the principal axes are called principal components\n",
    "principal_components = X.dot(principal_axes)\n",
    "print(\"Y = \\n\", principal_components)"
   ]
  },
  {
   "cell_type": "code",
   "execution_count": 45,
   "metadata": {},
   "outputs": [
    {
     "name": "stdout",
     "output_type": "stream",
     "text": [
      "[[-0.03303683  0.48821803  0.10019901]\n",
      " [-0.38465318 -0.49484465 -0.03653374]\n",
      " [-0.1603969  -0.29226115  0.67115325]\n",
      " [-0.48813449  0.06536313 -0.38788031]\n",
      " [ 0.01220039  0.41732081 -0.17514713]\n",
      " [-0.28153972  0.23543715  0.22599636]\n",
      " [ 0.23971761 -0.35552204 -0.44487338]\n",
      " [ 0.50699226 -0.20460556  0.10832599]\n",
      " [ 0.19528857 -0.02781459 -0.24793862]\n",
      " [ 0.3935623   0.16870886  0.18669856]]\n",
      "\n",
      "[[1.1213066  0.         0.        ]\n",
      " [0.         0.94792781 0.        ]\n",
      " [0.         0.         0.58469778]]\n",
      "\n",
      "[[-0.03704442  0.46279545  0.05858614]\n",
      " [-0.43131416 -0.46907701 -0.0213612 ]\n",
      " [-0.1798541  -0.27704248  0.39242182]\n",
      " [-0.54734843  0.06195953 -0.22679276]\n",
      " [ 0.01368038  0.39559001 -0.10240814]\n",
      " [-0.31569235  0.22317742  0.13213957]\n",
      " [ 0.26879694 -0.33700923 -0.26011648]\n",
      " [ 0.56849377 -0.1939513   0.06333797]\n",
      " [ 0.21897836 -0.02636622 -0.14496916]\n",
      " [ 0.441304    0.15992382  0.10916224]]\n",
      "US == XV True\n"
     ]
    }
   ],
   "source": [
    "#https://davidvandebunte.gitlab.io/executable-notes/notes/se/relationship-between-svd-and-pca.html\n",
    "U, S, VT = np.linalg.svd(X, full_matrices=False)\n",
    "V = VT.T # V - matrix of eigenvectors, columns of V are principal directions/axes.\n",
    "\n",
    "#X * V = U * S * Vt * V = U * S\n",
    "k=3\n",
    "U=U[:,:k]\n",
    "S = np.diag(S)\n",
    "S=S[:k,:k]\n",
    "\n",
    "print(U)\n",
    "print()\n",
    "print(S)\n",
    "print()\n",
    "PC = U.dot(S) \n",
    "PC_2 = X.dot(V[:,:k])\n",
    "print(PC)\n",
    "print(f\"US == XV {np.allclose(PC,PC_2)}\")\n"
   ]
  }
 ],
 "metadata": {
  "kernelspec": {
   "display_name": "Python 3",
   "language": "python",
   "name": "python3"
  },
  "language_info": {
   "codemirror_mode": {
    "name": "ipython",
    "version": 3
   },
   "file_extension": ".py",
   "mimetype": "text/x-python",
   "name": "python",
   "nbconvert_exporter": "python",
   "pygments_lexer": "ipython3",
   "version": "3.9.13"
  },
  "orig_nbformat": 4,
  "vscode": {
   "interpreter": {
    "hash": "1d37589d4eb4d142da20bdbebb4352afaee29589507962c05c4960916c8b7369"
   }
  }
 },
 "nbformat": 4,
 "nbformat_minor": 2
}
